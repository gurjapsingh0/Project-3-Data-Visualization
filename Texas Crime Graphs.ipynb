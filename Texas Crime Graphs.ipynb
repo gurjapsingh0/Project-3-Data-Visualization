{
 "cells": [
  {
   "cell_type": "code",
   "execution_count": 1,
   "id": "28ba1e0e",
   "metadata": {},
   "outputs": [
    {
     "data": {
      "text/html": [
       "        <script type=\"text/javascript\">\n",
       "        window.PlotlyConfig = {MathJaxConfig: 'local'};\n",
       "        if (window.MathJax && window.MathJax.Hub && window.MathJax.Hub.Config) {window.MathJax.Hub.Config({SVG: {font: \"STIX-Web\"}});}\n",
       "        if (typeof require !== 'undefined') {\n",
       "        require.undef(\"plotly\");\n",
       "        requirejs.config({\n",
       "            paths: {\n",
       "                'plotly': ['https://cdn.plot.ly/plotly-2.27.0.min']\n",
       "            }\n",
       "        });\n",
       "        require(['plotly'], function(Plotly) {\n",
       "            window._Plotly = Plotly;\n",
       "        });\n",
       "        }\n",
       "        </script>\n",
       "        "
      ]
     },
     "metadata": {},
     "output_type": "display_data"
    },
    {
     "data": {
      "text/html": [
       "        <script type=\"text/javascript\">\n",
       "        window.PlotlyConfig = {MathJaxConfig: 'local'};\n",
       "        if (window.MathJax && window.MathJax.Hub && window.MathJax.Hub.Config) {window.MathJax.Hub.Config({SVG: {font: \"STIX-Web\"}});}\n",
       "        if (typeof require !== 'undefined') {\n",
       "        require.undef(\"plotly\");\n",
       "        requirejs.config({\n",
       "            paths: {\n",
       "                'plotly': ['https://cdn.plot.ly/plotly-2.27.0.min']\n",
       "            }\n",
       "        });\n",
       "        require(['plotly'], function(Plotly) {\n",
       "            window._Plotly = Plotly;\n",
       "        });\n",
       "        }\n",
       "        </script>\n",
       "        "
      ]
     },
     "metadata": {},
     "output_type": "display_data"
    }
   ],
   "source": [
    "import pandas as pd\n",
    "import numpy as np\n",
    "import chart_studio.plotly as py\n",
    "import json\n",
    "import folium\n",
    "from folium import Choropleth, CircleMarker, Marker\n",
    "from folium.plugins import HeatMap, MarkerCluster\n",
    "import cufflinks as cf\n",
    "import seaborn as sns\n",
    "import plotly.express as px\n",
    "import plotly.graph_objects as go\n",
    "%matplotlib inline\n",
    "\n",
    "from plotly.offline import download_plotlyjs, init_notebook_mode,plot, iplot\n",
    "init_notebook_mode(connected=True)\n",
    "cf.go_offline()"
   ]
  },
  {
   "cell_type": "code",
   "execution_count": 2,
   "id": "50cdbcda",
   "metadata": {},
   "outputs": [
    {
     "data": {
      "text/html": [
       "<div>\n",
       "<style scoped>\n",
       "    .dataframe tbody tr th:only-of-type {\n",
       "        vertical-align: middle;\n",
       "    }\n",
       "\n",
       "    .dataframe tbody tr th {\n",
       "        vertical-align: top;\n",
       "    }\n",
       "\n",
       "    .dataframe thead th {\n",
       "        text-align: right;\n",
       "    }\n",
       "</style>\n",
       "<table border=\"1\" class=\"dataframe\">\n",
       "  <thead>\n",
       "    <tr style=\"text-align: right;\">\n",
       "      <th></th>\n",
       "      <th>County</th>\n",
       "      <th>Population</th>\n",
       "      <th>Murder</th>\n",
       "      <th>Rape</th>\n",
       "      <th>Robbery</th>\n",
       "      <th>Assault</th>\n",
       "      <th>Burglary</th>\n",
       "      <th>Larceny</th>\n",
       "      <th>Auto Theft</th>\n",
       "      <th>Total</th>\n",
       "    </tr>\n",
       "  </thead>\n",
       "  <tbody>\n",
       "    <tr>\n",
       "      <th>0</th>\n",
       "      <td>Anderson</td>\n",
       "      <td>20230.0</td>\n",
       "      <td>1.0</td>\n",
       "      <td>32.0</td>\n",
       "      <td>7.0</td>\n",
       "      <td>99.0</td>\n",
       "      <td>124.0</td>\n",
       "      <td>356.0</td>\n",
       "      <td>32.0</td>\n",
       "      <td>651.0</td>\n",
       "    </tr>\n",
       "    <tr>\n",
       "      <th>1</th>\n",
       "      <td>Andrews</td>\n",
       "      <td>18380.0</td>\n",
       "      <td>1.0</td>\n",
       "      <td>5.0</td>\n",
       "      <td>0.0</td>\n",
       "      <td>60.0</td>\n",
       "      <td>32.0</td>\n",
       "      <td>192.0</td>\n",
       "      <td>22.0</td>\n",
       "      <td>312.0</td>\n",
       "    </tr>\n",
       "    <tr>\n",
       "      <th>2</th>\n",
       "      <td>Angelina</td>\n",
       "      <td>82128.0</td>\n",
       "      <td>6.0</td>\n",
       "      <td>78.0</td>\n",
       "      <td>26.0</td>\n",
       "      <td>216.0</td>\n",
       "      <td>410.0</td>\n",
       "      <td>1296.0</td>\n",
       "      <td>187.0</td>\n",
       "      <td>2219.0</td>\n",
       "    </tr>\n",
       "    <tr>\n",
       "      <th>3</th>\n",
       "      <td>Aransas</td>\n",
       "      <td>31050.0</td>\n",
       "      <td>3.0</td>\n",
       "      <td>19.0</td>\n",
       "      <td>9.0</td>\n",
       "      <td>134.0</td>\n",
       "      <td>151.0</td>\n",
       "      <td>523.0</td>\n",
       "      <td>54.0</td>\n",
       "      <td>893.0</td>\n",
       "    </tr>\n",
       "    <tr>\n",
       "      <th>4</th>\n",
       "      <td>Archer</td>\n",
       "      <td>1593.0</td>\n",
       "      <td>0.0</td>\n",
       "      <td>1.0</td>\n",
       "      <td>0.0</td>\n",
       "      <td>0.0</td>\n",
       "      <td>4.0</td>\n",
       "      <td>2.0</td>\n",
       "      <td>2.0</td>\n",
       "      <td>9.0</td>\n",
       "    </tr>\n",
       "    <tr>\n",
       "      <th>...</th>\n",
       "      <td>...</td>\n",
       "      <td>...</td>\n",
       "      <td>...</td>\n",
       "      <td>...</td>\n",
       "      <td>...</td>\n",
       "      <td>...</td>\n",
       "      <td>...</td>\n",
       "      <td>...</td>\n",
       "      <td>...</td>\n",
       "      <td>...</td>\n",
       "    </tr>\n",
       "    <tr>\n",
       "      <th>249</th>\n",
       "      <td>Wood</td>\n",
       "      <td>47838.0</td>\n",
       "      <td>1.0</td>\n",
       "      <td>12.0</td>\n",
       "      <td>11.0</td>\n",
       "      <td>64.0</td>\n",
       "      <td>108.0</td>\n",
       "      <td>246.0</td>\n",
       "      <td>36.0</td>\n",
       "      <td>478.0</td>\n",
       "    </tr>\n",
       "    <tr>\n",
       "      <th>250</th>\n",
       "      <td>Yoakum</td>\n",
       "      <td>7591.0</td>\n",
       "      <td>0.0</td>\n",
       "      <td>0.0</td>\n",
       "      <td>0.0</td>\n",
       "      <td>17.0</td>\n",
       "      <td>11.0</td>\n",
       "      <td>34.0</td>\n",
       "      <td>8.0</td>\n",
       "      <td>70.0</td>\n",
       "    </tr>\n",
       "    <tr>\n",
       "      <th>251</th>\n",
       "      <td>Young</td>\n",
       "      <td>18225.0</td>\n",
       "      <td>0.0</td>\n",
       "      <td>5.0</td>\n",
       "      <td>2.0</td>\n",
       "      <td>24.0</td>\n",
       "      <td>23.0</td>\n",
       "      <td>98.0</td>\n",
       "      <td>16.0</td>\n",
       "      <td>168.0</td>\n",
       "    </tr>\n",
       "    <tr>\n",
       "      <th>252</th>\n",
       "      <td>Zapata</td>\n",
       "      <td>14016.0</td>\n",
       "      <td>0.0</td>\n",
       "      <td>0.0</td>\n",
       "      <td>0.0</td>\n",
       "      <td>5.0</td>\n",
       "      <td>12.0</td>\n",
       "      <td>20.0</td>\n",
       "      <td>0.0</td>\n",
       "      <td>37.0</td>\n",
       "    </tr>\n",
       "    <tr>\n",
       "      <th>253</th>\n",
       "      <td>Zavala</td>\n",
       "      <td>3222.0</td>\n",
       "      <td>0.0</td>\n",
       "      <td>2.0</td>\n",
       "      <td>0.0</td>\n",
       "      <td>12.0</td>\n",
       "      <td>9.0</td>\n",
       "      <td>23.0</td>\n",
       "      <td>12.0</td>\n",
       "      <td>58.0</td>\n",
       "    </tr>\n",
       "  </tbody>\n",
       "</table>\n",
       "<p>254 rows × 10 columns</p>\n",
       "</div>"
      ],
      "text/plain": [
       "       County  Population  Murder  Rape  Robbery  Assault  Burglary  Larceny  \\\n",
       "0    Anderson     20230.0     1.0  32.0      7.0     99.0     124.0    356.0   \n",
       "1     Andrews     18380.0     1.0   5.0      0.0     60.0      32.0    192.0   \n",
       "2    Angelina     82128.0     6.0  78.0     26.0    216.0     410.0   1296.0   \n",
       "3     Aransas     31050.0     3.0  19.0      9.0    134.0     151.0    523.0   \n",
       "4      Archer      1593.0     0.0   1.0      0.0      0.0       4.0      2.0   \n",
       "..        ...         ...     ...   ...      ...      ...       ...      ...   \n",
       "249      Wood     47838.0     1.0  12.0     11.0     64.0     108.0    246.0   \n",
       "250    Yoakum      7591.0     0.0   0.0      0.0     17.0      11.0     34.0   \n",
       "251     Young     18225.0     0.0   5.0      2.0     24.0      23.0     98.0   \n",
       "252    Zapata     14016.0     0.0   0.0      0.0      5.0      12.0     20.0   \n",
       "253    Zavala      3222.0     0.0   2.0      0.0     12.0       9.0     23.0   \n",
       "\n",
       "     Auto Theft   Total  \n",
       "0          32.0   651.0  \n",
       "1          22.0   312.0  \n",
       "2         187.0  2219.0  \n",
       "3          54.0   893.0  \n",
       "4           2.0     9.0  \n",
       "..          ...     ...  \n",
       "249        36.0   478.0  \n",
       "250         8.0    70.0  \n",
       "251        16.0   168.0  \n",
       "252         0.0    37.0  \n",
       "253        12.0    58.0  \n",
       "\n",
       "[254 rows x 10 columns]"
      ]
     },
     "execution_count": 2,
     "metadata": {},
     "output_type": "execute_result"
    }
   ],
   "source": [
    "df = pd.read_excel(r\"C:\\Users\\gurja\\OneDrive\\Project-3-Data-Visualization\\Crime Data\\2022_Texas_County_Crime.xlsx\", \n",
    "                  engine = 'openpyxl')\n",
    "\n",
    "#Make the names appear as they do in the json file\n",
    "df['County'] = df['County'].apply(lambda x: ' '.join(word.capitalize() for word in x.split() if word.lower() != 'county'))\n",
    "df.head()\n",
    "\n",
    "#drop extra column\n",
    "df = df.drop(columns=['Unnamed: 10'])\n",
    "\n",
    "#fill in null values\n",
    "df = df.fillna(1)\n",
    "\n",
    "df"
   ]
  },
  {
   "cell_type": "code",
   "execution_count": 3,
   "id": "ce5934c3",
   "metadata": {},
   "outputs": [
    {
     "data": {
      "text/plain": [
       "County        False\n",
       "Population    False\n",
       "Murder        False\n",
       "Rape          False\n",
       "Robbery       False\n",
       "Assault       False\n",
       "Burglary      False\n",
       "Larceny       False\n",
       "Auto Theft    False\n",
       "Total         False\n",
       "dtype: bool"
      ]
     },
     "execution_count": 3,
     "metadata": {},
     "output_type": "execute_result"
    }
   ],
   "source": [
    "df.isin([np.inf, -np.inf]).any()"
   ]
  },
  {
   "cell_type": "code",
   "execution_count": 4,
   "id": "2f4b10f3",
   "metadata": {},
   "outputs": [
    {
     "data": {
      "text/html": [
       "<div>\n",
       "<style scoped>\n",
       "    .dataframe tbody tr th:only-of-type {\n",
       "        vertical-align: middle;\n",
       "    }\n",
       "\n",
       "    .dataframe tbody tr th {\n",
       "        vertical-align: top;\n",
       "    }\n",
       "\n",
       "    .dataframe thead th {\n",
       "        text-align: right;\n",
       "    }\n",
       "</style>\n",
       "<table border=\"1\" class=\"dataframe\">\n",
       "  <thead>\n",
       "    <tr style=\"text-align: right;\">\n",
       "      <th></th>\n",
       "      <th>County</th>\n",
       "      <th>Population</th>\n",
       "      <th>Murder</th>\n",
       "      <th>Rape</th>\n",
       "      <th>Robbery</th>\n",
       "      <th>Assault</th>\n",
       "      <th>Burglary</th>\n",
       "      <th>Larceny</th>\n",
       "      <th>Auto Theft</th>\n",
       "      <th>Total</th>\n",
       "      <th>Murder Rate</th>\n",
       "      <th>Rape Rate</th>\n",
       "      <th>Robbery Rate</th>\n",
       "      <th>Assault Rate</th>\n",
       "      <th>Burglary Rate</th>\n",
       "      <th>Larceny Rate</th>\n",
       "      <th>Auto Theft Rate</th>\n",
       "      <th>Total Rate</th>\n",
       "    </tr>\n",
       "  </thead>\n",
       "  <tbody>\n",
       "    <tr>\n",
       "      <th>0</th>\n",
       "      <td>Anderson</td>\n",
       "      <td>20230.0</td>\n",
       "      <td>1.0</td>\n",
       "      <td>32.0</td>\n",
       "      <td>7.0</td>\n",
       "      <td>99.0</td>\n",
       "      <td>124.0</td>\n",
       "      <td>356.0</td>\n",
       "      <td>32.0</td>\n",
       "      <td>651.0</td>\n",
       "      <td>4.943154</td>\n",
       "      <td>158.180919</td>\n",
       "      <td>34.602076</td>\n",
       "      <td>489.372219</td>\n",
       "      <td>612.951063</td>\n",
       "      <td>1759.762729</td>\n",
       "      <td>158.180919</td>\n",
       "      <td>3217.993080</td>\n",
       "    </tr>\n",
       "    <tr>\n",
       "      <th>1</th>\n",
       "      <td>Andrews</td>\n",
       "      <td>18380.0</td>\n",
       "      <td>1.0</td>\n",
       "      <td>5.0</td>\n",
       "      <td>0.0</td>\n",
       "      <td>60.0</td>\n",
       "      <td>32.0</td>\n",
       "      <td>192.0</td>\n",
       "      <td>22.0</td>\n",
       "      <td>312.0</td>\n",
       "      <td>5.440696</td>\n",
       "      <td>27.203482</td>\n",
       "      <td>0.000000</td>\n",
       "      <td>326.441785</td>\n",
       "      <td>174.102285</td>\n",
       "      <td>1044.613711</td>\n",
       "      <td>119.695321</td>\n",
       "      <td>1697.497280</td>\n",
       "    </tr>\n",
       "    <tr>\n",
       "      <th>2</th>\n",
       "      <td>Angelina</td>\n",
       "      <td>82128.0</td>\n",
       "      <td>6.0</td>\n",
       "      <td>78.0</td>\n",
       "      <td>26.0</td>\n",
       "      <td>216.0</td>\n",
       "      <td>410.0</td>\n",
       "      <td>1296.0</td>\n",
       "      <td>187.0</td>\n",
       "      <td>2219.0</td>\n",
       "      <td>7.305669</td>\n",
       "      <td>94.973700</td>\n",
       "      <td>31.657900</td>\n",
       "      <td>263.004091</td>\n",
       "      <td>499.220729</td>\n",
       "      <td>1578.024547</td>\n",
       "      <td>227.693357</td>\n",
       "      <td>2701.879992</td>\n",
       "    </tr>\n",
       "    <tr>\n",
       "      <th>3</th>\n",
       "      <td>Aransas</td>\n",
       "      <td>31050.0</td>\n",
       "      <td>3.0</td>\n",
       "      <td>19.0</td>\n",
       "      <td>9.0</td>\n",
       "      <td>134.0</td>\n",
       "      <td>151.0</td>\n",
       "      <td>523.0</td>\n",
       "      <td>54.0</td>\n",
       "      <td>893.0</td>\n",
       "      <td>9.661836</td>\n",
       "      <td>61.191626</td>\n",
       "      <td>28.985507</td>\n",
       "      <td>431.561997</td>\n",
       "      <td>486.312399</td>\n",
       "      <td>1684.380032</td>\n",
       "      <td>173.913043</td>\n",
       "      <td>2876.006441</td>\n",
       "    </tr>\n",
       "    <tr>\n",
       "      <th>4</th>\n",
       "      <td>Archer</td>\n",
       "      <td>1593.0</td>\n",
       "      <td>0.0</td>\n",
       "      <td>1.0</td>\n",
       "      <td>0.0</td>\n",
       "      <td>0.0</td>\n",
       "      <td>4.0</td>\n",
       "      <td>2.0</td>\n",
       "      <td>2.0</td>\n",
       "      <td>9.0</td>\n",
       "      <td>0.000000</td>\n",
       "      <td>62.774639</td>\n",
       "      <td>0.000000</td>\n",
       "      <td>0.000000</td>\n",
       "      <td>251.098556</td>\n",
       "      <td>125.549278</td>\n",
       "      <td>125.549278</td>\n",
       "      <td>564.971751</td>\n",
       "    </tr>\n",
       "    <tr>\n",
       "      <th>...</th>\n",
       "      <td>...</td>\n",
       "      <td>...</td>\n",
       "      <td>...</td>\n",
       "      <td>...</td>\n",
       "      <td>...</td>\n",
       "      <td>...</td>\n",
       "      <td>...</td>\n",
       "      <td>...</td>\n",
       "      <td>...</td>\n",
       "      <td>...</td>\n",
       "      <td>...</td>\n",
       "      <td>...</td>\n",
       "      <td>...</td>\n",
       "      <td>...</td>\n",
       "      <td>...</td>\n",
       "      <td>...</td>\n",
       "      <td>...</td>\n",
       "      <td>...</td>\n",
       "    </tr>\n",
       "    <tr>\n",
       "      <th>249</th>\n",
       "      <td>Wood</td>\n",
       "      <td>47838.0</td>\n",
       "      <td>1.0</td>\n",
       "      <td>12.0</td>\n",
       "      <td>11.0</td>\n",
       "      <td>64.0</td>\n",
       "      <td>108.0</td>\n",
       "      <td>246.0</td>\n",
       "      <td>36.0</td>\n",
       "      <td>478.0</td>\n",
       "      <td>2.090388</td>\n",
       "      <td>25.084661</td>\n",
       "      <td>22.994272</td>\n",
       "      <td>133.784857</td>\n",
       "      <td>225.761947</td>\n",
       "      <td>514.235545</td>\n",
       "      <td>75.253982</td>\n",
       "      <td>999.205652</td>\n",
       "    </tr>\n",
       "    <tr>\n",
       "      <th>250</th>\n",
       "      <td>Yoakum</td>\n",
       "      <td>7591.0</td>\n",
       "      <td>0.0</td>\n",
       "      <td>0.0</td>\n",
       "      <td>0.0</td>\n",
       "      <td>17.0</td>\n",
       "      <td>11.0</td>\n",
       "      <td>34.0</td>\n",
       "      <td>8.0</td>\n",
       "      <td>70.0</td>\n",
       "      <td>0.000000</td>\n",
       "      <td>0.000000</td>\n",
       "      <td>0.000000</td>\n",
       "      <td>223.949414</td>\n",
       "      <td>144.908444</td>\n",
       "      <td>447.898828</td>\n",
       "      <td>105.387959</td>\n",
       "      <td>922.144645</td>\n",
       "    </tr>\n",
       "    <tr>\n",
       "      <th>251</th>\n",
       "      <td>Young</td>\n",
       "      <td>18225.0</td>\n",
       "      <td>0.0</td>\n",
       "      <td>5.0</td>\n",
       "      <td>2.0</td>\n",
       "      <td>24.0</td>\n",
       "      <td>23.0</td>\n",
       "      <td>98.0</td>\n",
       "      <td>16.0</td>\n",
       "      <td>168.0</td>\n",
       "      <td>0.000000</td>\n",
       "      <td>27.434842</td>\n",
       "      <td>10.973937</td>\n",
       "      <td>131.687243</td>\n",
       "      <td>126.200274</td>\n",
       "      <td>537.722908</td>\n",
       "      <td>87.791495</td>\n",
       "      <td>921.810700</td>\n",
       "    </tr>\n",
       "    <tr>\n",
       "      <th>252</th>\n",
       "      <td>Zapata</td>\n",
       "      <td>14016.0</td>\n",
       "      <td>0.0</td>\n",
       "      <td>0.0</td>\n",
       "      <td>0.0</td>\n",
       "      <td>5.0</td>\n",
       "      <td>12.0</td>\n",
       "      <td>20.0</td>\n",
       "      <td>0.0</td>\n",
       "      <td>37.0</td>\n",
       "      <td>0.000000</td>\n",
       "      <td>0.000000</td>\n",
       "      <td>0.000000</td>\n",
       "      <td>35.673516</td>\n",
       "      <td>85.616438</td>\n",
       "      <td>142.694064</td>\n",
       "      <td>0.000000</td>\n",
       "      <td>263.984018</td>\n",
       "    </tr>\n",
       "    <tr>\n",
       "      <th>253</th>\n",
       "      <td>Zavala</td>\n",
       "      <td>3222.0</td>\n",
       "      <td>0.0</td>\n",
       "      <td>2.0</td>\n",
       "      <td>0.0</td>\n",
       "      <td>12.0</td>\n",
       "      <td>9.0</td>\n",
       "      <td>23.0</td>\n",
       "      <td>12.0</td>\n",
       "      <td>58.0</td>\n",
       "      <td>0.000000</td>\n",
       "      <td>62.073246</td>\n",
       "      <td>0.000000</td>\n",
       "      <td>372.439479</td>\n",
       "      <td>279.329609</td>\n",
       "      <td>713.842334</td>\n",
       "      <td>372.439479</td>\n",
       "      <td>1800.124146</td>\n",
       "    </tr>\n",
       "  </tbody>\n",
       "</table>\n",
       "<p>254 rows × 18 columns</p>\n",
       "</div>"
      ],
      "text/plain": [
       "       County  Population  Murder  Rape  Robbery  Assault  Burglary  Larceny  \\\n",
       "0    Anderson     20230.0     1.0  32.0      7.0     99.0     124.0    356.0   \n",
       "1     Andrews     18380.0     1.0   5.0      0.0     60.0      32.0    192.0   \n",
       "2    Angelina     82128.0     6.0  78.0     26.0    216.0     410.0   1296.0   \n",
       "3     Aransas     31050.0     3.0  19.0      9.0    134.0     151.0    523.0   \n",
       "4      Archer      1593.0     0.0   1.0      0.0      0.0       4.0      2.0   \n",
       "..        ...         ...     ...   ...      ...      ...       ...      ...   \n",
       "249      Wood     47838.0     1.0  12.0     11.0     64.0     108.0    246.0   \n",
       "250    Yoakum      7591.0     0.0   0.0      0.0     17.0      11.0     34.0   \n",
       "251     Young     18225.0     0.0   5.0      2.0     24.0      23.0     98.0   \n",
       "252    Zapata     14016.0     0.0   0.0      0.0      5.0      12.0     20.0   \n",
       "253    Zavala      3222.0     0.0   2.0      0.0     12.0       9.0     23.0   \n",
       "\n",
       "     Auto Theft   Total  Murder Rate   Rape Rate  Robbery Rate  Assault Rate  \\\n",
       "0          32.0   651.0     4.943154  158.180919     34.602076    489.372219   \n",
       "1          22.0   312.0     5.440696   27.203482      0.000000    326.441785   \n",
       "2         187.0  2219.0     7.305669   94.973700     31.657900    263.004091   \n",
       "3          54.0   893.0     9.661836   61.191626     28.985507    431.561997   \n",
       "4           2.0     9.0     0.000000   62.774639      0.000000      0.000000   \n",
       "..          ...     ...          ...         ...           ...           ...   \n",
       "249        36.0   478.0     2.090388   25.084661     22.994272    133.784857   \n",
       "250         8.0    70.0     0.000000    0.000000      0.000000    223.949414   \n",
       "251        16.0   168.0     0.000000   27.434842     10.973937    131.687243   \n",
       "252         0.0    37.0     0.000000    0.000000      0.000000     35.673516   \n",
       "253        12.0    58.0     0.000000   62.073246      0.000000    372.439479   \n",
       "\n",
       "     Burglary Rate  Larceny Rate  Auto Theft Rate   Total Rate  \n",
       "0       612.951063   1759.762729       158.180919  3217.993080  \n",
       "1       174.102285   1044.613711       119.695321  1697.497280  \n",
       "2       499.220729   1578.024547       227.693357  2701.879992  \n",
       "3       486.312399   1684.380032       173.913043  2876.006441  \n",
       "4       251.098556    125.549278       125.549278   564.971751  \n",
       "..             ...           ...              ...          ...  \n",
       "249     225.761947    514.235545        75.253982   999.205652  \n",
       "250     144.908444    447.898828       105.387959   922.144645  \n",
       "251     126.200274    537.722908        87.791495   921.810700  \n",
       "252      85.616438    142.694064         0.000000   263.984018  \n",
       "253     279.329609    713.842334       372.439479  1800.124146  \n",
       "\n",
       "[254 rows x 18 columns]"
      ]
     },
     "execution_count": 4,
     "metadata": {},
     "output_type": "execute_result"
    }
   ],
   "source": [
    "crime_columns = ['Murder', 'Rape', 'Robbery', 'Assault', 'Burglary', 'Larceny', 'Auto Theft', 'Total']\n",
    "\n",
    "for crime in crime_columns:\n",
    "    rate_column = f'{crime} Rate'\n",
    "    df[rate_column] = (df[crime] / df['Population']) * 100000\n",
    "    \n",
    "df"
   ]
  },
  {
   "cell_type": "code",
   "execution_count": 5,
   "id": "768337c5",
   "metadata": {},
   "outputs": [
    {
     "data": {
      "text/plain": [
       "County             False\n",
       "Population         False\n",
       "Murder             False\n",
       "Rape               False\n",
       "Robbery            False\n",
       "Assault            False\n",
       "Burglary           False\n",
       "Larceny            False\n",
       "Auto Theft         False\n",
       "Total              False\n",
       "Murder Rate        False\n",
       "Rape Rate           True\n",
       "Robbery Rate       False\n",
       "Assault Rate       False\n",
       "Burglary Rate      False\n",
       "Larceny Rate        True\n",
       "Auto Theft Rate    False\n",
       "Total Rate          True\n",
       "dtype: bool"
      ]
     },
     "execution_count": 5,
     "metadata": {},
     "output_type": "execute_result"
    }
   ],
   "source": [
    "df.isin([np.inf, -np.inf]).any()"
   ]
  },
  {
   "cell_type": "code",
   "execution_count": 6,
   "id": "6eebfab6",
   "metadata": {},
   "outputs": [
    {
     "data": {
      "text/plain": [
       "County             False\n",
       "Population         False\n",
       "Murder             False\n",
       "Rape               False\n",
       "Robbery            False\n",
       "Assault            False\n",
       "Burglary           False\n",
       "Larceny            False\n",
       "Auto Theft         False\n",
       "Total              False\n",
       "Murder Rate        False\n",
       "Rape Rate           True\n",
       "Robbery Rate       False\n",
       "Assault Rate       False\n",
       "Burglary Rate      False\n",
       "Larceny Rate        True\n",
       "Auto Theft Rate    False\n",
       "Total Rate          True\n",
       "dtype: bool"
      ]
     },
     "execution_count": 6,
     "metadata": {},
     "output_type": "execute_result"
    }
   ],
   "source": [
    "non_rate_columns = ['Population', 'Murder', 'Rape', 'Robbery', 'Assault', 'Burglary', 'Larceny', 'Auto Theft', 'Total']\n",
    "df[non_rate_columns] = df[non_rate_columns].replace(0, 1)\n",
    "df.isin([np.inf, -np.inf]).any()"
   ]
  },
  {
   "cell_type": "code",
   "execution_count": 7,
   "id": "f7d84166",
   "metadata": {},
   "outputs": [
    {
     "data": {
      "application/vnd.plotly.v1+json": {
       "config": {
        "plotlyServerURL": "https://plot.ly"
       },
       "data": [
        {
         "marker": {
          "color": "blue"
         },
         "showlegend": false,
         "type": "bar",
         "x": [
          "Murder Rate"
         ],
         "y": [
          3.6730585849958337
         ]
        },
        {
         "marker": {
          "color": "green"
         },
         "showlegend": false,
         "type": "bar",
         "x": [
          "Murder Rate"
         ],
         "y": [
          7.1733053300450695
         ]
        },
        {
         "marker": {
          "color": "orange"
         },
         "showlegend": false,
         "type": "bar",
         "x": [
          "Murder Rate"
         ],
         "y": [
          5.282510264089001
         ]
        },
        {
         "marker": {
          "color": "red"
         },
         "showlegend": false,
         "type": "bar",
         "x": [
          "Murder Rate"
         ],
         "y": [
          5.553796203494381
         ]
        },
        {
         "marker": {
          "color": "blue"
         },
         "showlegend": false,
         "type": "bar",
         "x": [
          "Rape Rate"
         ],
         "y": [
          37.59316475120548
         ]
        },
        {
         "marker": {
          "color": "green"
         },
         "showlegend": false,
         "type": "bar",
         "x": [
          "Rape Rate"
         ],
         "y": [
          48.38369013551409
         ]
        },
        {
         "marker": {
          "color": "orange"
         },
         "showlegend": false,
         "type": "bar",
         "x": [
          "Rape Rate"
         ],
         "y": [
          43.87479928974414
         ]
        },
        {
         "marker": {
          "color": "red"
         },
         "showlegend": false,
         "type": "bar",
         "x": [
          "Rape Rate"
         ],
         "y": [
          52.38152540445826
         ]
        },
        {
         "marker": {
          "color": "blue"
         },
         "showlegend": false,
         "type": "bar",
         "x": [
          "Robbery Rate"
         ],
         "y": [
          14.7051567811173
         ]
        },
        {
         "marker": {
          "color": "green"
         },
         "showlegend": false,
         "type": "bar",
         "x": [
          "Robbery Rate"
         ],
         "y": [
          17.434279145527064
         ]
        },
        {
         "marker": {
          "color": "orange"
         },
         "showlegend": false,
         "type": "bar",
         "x": [
          "Robbery Rate"
         ],
         "y": [
          17.887391336106333
         ]
        },
        {
         "marker": {
          "color": "red"
         },
         "showlegend": false,
         "type": "bar",
         "x": [
          "Robbery Rate"
         ],
         "y": [
          44.92137328442165
         ]
        },
        {
         "marker": {
          "color": "blue"
         },
         "showlegend": false,
         "type": "bar",
         "x": [
          "Assault Rate"
         ],
         "y": [
          221.70782881849277
         ]
        },
        {
         "marker": {
          "color": "green"
         },
         "showlegend": false,
         "type": "bar",
         "x": [
          "Assault Rate"
         ],
         "y": [
          212.4749414777263
         ]
        },
        {
         "marker": {
          "color": "orange"
         },
         "showlegend": false,
         "type": "bar",
         "x": [
          "Assault Rate"
         ],
         "y": [
          196.75143229684068
         ]
        },
        {
         "marker": {
          "color": "red"
         },
         "showlegend": false,
         "type": "bar",
         "x": [
          "Assault Rate"
         ],
         "y": [
          260.5533466774494
         ]
        },
        {
         "marker": {
          "color": "blue"
         },
         "showlegend": false,
         "type": "bar",
         "x": [
          "Burglary Rate"
         ],
         "y": [
          342.40992167216916
         ]
        },
        {
         "marker": {
          "color": "green"
         },
         "showlegend": false,
         "type": "bar",
         "x": [
          "Burglary Rate"
         ],
         "y": [
          332.5923214719629
         ]
        },
        {
         "marker": {
          "color": "orange"
         },
         "showlegend": false,
         "type": "bar",
         "x": [
          "Burglary Rate"
         ],
         "y": [
          284.4059921720816
         ]
        },
        {
         "marker": {
          "color": "red"
         },
         "showlegend": false,
         "type": "bar",
         "x": [
          "Burglary Rate"
         ],
         "y": [
          293.00945120348797
         ]
        },
        {
         "marker": {
          "color": "blue"
         },
         "showlegend": false,
         "type": "bar",
         "x": [
          "Larceny Rate"
         ],
         "y": [
          677.9164757580579
         ]
        },
        {
         "marker": {
          "color": "green"
         },
         "showlegend": false,
         "type": "bar",
         "x": [
          "Larceny Rate"
         ],
         "y": [
          935.6833439785937
         ]
        },
        {
         "marker": {
          "color": "orange"
         },
         "showlegend": false,
         "type": "bar",
         "x": [
          "Larceny Rate"
         ],
         "y": [
          884.7050259623846
         ]
        },
        {
         "marker": {
          "color": "red"
         },
         "showlegend": false,
         "type": "bar",
         "x": [
          "Larceny Rate"
         ],
         "y": [
          1382.6815505335514
         ]
        },
        {
         "marker": {
          "color": "blue"
         },
         "showlegend": false,
         "type": "bar",
         "x": [
          "Auto Theft Rate"
         ],
         "y": [
          123.7569441456053
         ]
        },
        {
         "marker": {
          "color": "green"
         },
         "showlegend": false,
         "type": "bar",
         "x": [
          "Auto Theft Rate"
         ],
         "y": [
          135.7210051433079
         ]
        },
        {
         "marker": {
          "color": "orange"
         },
         "showlegend": false,
         "type": "bar",
         "x": [
          "Auto Theft Rate"
         ],
         "y": [
          167.15676207173334
         ]
        },
        {
         "marker": {
          "color": "red"
         },
         "showlegend": false,
         "type": "bar",
         "x": [
          "Auto Theft Rate"
         ],
         "y": [
          223.77448238312135
         ]
        }
       ],
       "layout": {
        "barmode": "group",
        "height": 600,
        "template": {
         "data": {
          "bar": [
           {
            "error_x": {
             "color": "#2a3f5f"
            },
            "error_y": {
             "color": "#2a3f5f"
            },
            "marker": {
             "line": {
              "color": "#E5ECF6",
              "width": 0.5
             },
             "pattern": {
              "fillmode": "overlay",
              "size": 10,
              "solidity": 0.2
             }
            },
            "type": "bar"
           }
          ],
          "barpolar": [
           {
            "marker": {
             "line": {
              "color": "#E5ECF6",
              "width": 0.5
             },
             "pattern": {
              "fillmode": "overlay",
              "size": 10,
              "solidity": 0.2
             }
            },
            "type": "barpolar"
           }
          ],
          "carpet": [
           {
            "aaxis": {
             "endlinecolor": "#2a3f5f",
             "gridcolor": "white",
             "linecolor": "white",
             "minorgridcolor": "white",
             "startlinecolor": "#2a3f5f"
            },
            "baxis": {
             "endlinecolor": "#2a3f5f",
             "gridcolor": "white",
             "linecolor": "white",
             "minorgridcolor": "white",
             "startlinecolor": "#2a3f5f"
            },
            "type": "carpet"
           }
          ],
          "choropleth": [
           {
            "colorbar": {
             "outlinewidth": 0,
             "ticks": ""
            },
            "type": "choropleth"
           }
          ],
          "contour": [
           {
            "colorbar": {
             "outlinewidth": 0,
             "ticks": ""
            },
            "colorscale": [
             [
              0,
              "#0d0887"
             ],
             [
              0.1111111111111111,
              "#46039f"
             ],
             [
              0.2222222222222222,
              "#7201a8"
             ],
             [
              0.3333333333333333,
              "#9c179e"
             ],
             [
              0.4444444444444444,
              "#bd3786"
             ],
             [
              0.5555555555555556,
              "#d8576b"
             ],
             [
              0.6666666666666666,
              "#ed7953"
             ],
             [
              0.7777777777777778,
              "#fb9f3a"
             ],
             [
              0.8888888888888888,
              "#fdca26"
             ],
             [
              1,
              "#f0f921"
             ]
            ],
            "type": "contour"
           }
          ],
          "contourcarpet": [
           {
            "colorbar": {
             "outlinewidth": 0,
             "ticks": ""
            },
            "type": "contourcarpet"
           }
          ],
          "heatmap": [
           {
            "colorbar": {
             "outlinewidth": 0,
             "ticks": ""
            },
            "colorscale": [
             [
              0,
              "#0d0887"
             ],
             [
              0.1111111111111111,
              "#46039f"
             ],
             [
              0.2222222222222222,
              "#7201a8"
             ],
             [
              0.3333333333333333,
              "#9c179e"
             ],
             [
              0.4444444444444444,
              "#bd3786"
             ],
             [
              0.5555555555555556,
              "#d8576b"
             ],
             [
              0.6666666666666666,
              "#ed7953"
             ],
             [
              0.7777777777777778,
              "#fb9f3a"
             ],
             [
              0.8888888888888888,
              "#fdca26"
             ],
             [
              1,
              "#f0f921"
             ]
            ],
            "type": "heatmap"
           }
          ],
          "heatmapgl": [
           {
            "colorbar": {
             "outlinewidth": 0,
             "ticks": ""
            },
            "colorscale": [
             [
              0,
              "#0d0887"
             ],
             [
              0.1111111111111111,
              "#46039f"
             ],
             [
              0.2222222222222222,
              "#7201a8"
             ],
             [
              0.3333333333333333,
              "#9c179e"
             ],
             [
              0.4444444444444444,
              "#bd3786"
             ],
             [
              0.5555555555555556,
              "#d8576b"
             ],
             [
              0.6666666666666666,
              "#ed7953"
             ],
             [
              0.7777777777777778,
              "#fb9f3a"
             ],
             [
              0.8888888888888888,
              "#fdca26"
             ],
             [
              1,
              "#f0f921"
             ]
            ],
            "type": "heatmapgl"
           }
          ],
          "histogram": [
           {
            "marker": {
             "pattern": {
              "fillmode": "overlay",
              "size": 10,
              "solidity": 0.2
             }
            },
            "type": "histogram"
           }
          ],
          "histogram2d": [
           {
            "colorbar": {
             "outlinewidth": 0,
             "ticks": ""
            },
            "colorscale": [
             [
              0,
              "#0d0887"
             ],
             [
              0.1111111111111111,
              "#46039f"
             ],
             [
              0.2222222222222222,
              "#7201a8"
             ],
             [
              0.3333333333333333,
              "#9c179e"
             ],
             [
              0.4444444444444444,
              "#bd3786"
             ],
             [
              0.5555555555555556,
              "#d8576b"
             ],
             [
              0.6666666666666666,
              "#ed7953"
             ],
             [
              0.7777777777777778,
              "#fb9f3a"
             ],
             [
              0.8888888888888888,
              "#fdca26"
             ],
             [
              1,
              "#f0f921"
             ]
            ],
            "type": "histogram2d"
           }
          ],
          "histogram2dcontour": [
           {
            "colorbar": {
             "outlinewidth": 0,
             "ticks": ""
            },
            "colorscale": [
             [
              0,
              "#0d0887"
             ],
             [
              0.1111111111111111,
              "#46039f"
             ],
             [
              0.2222222222222222,
              "#7201a8"
             ],
             [
              0.3333333333333333,
              "#9c179e"
             ],
             [
              0.4444444444444444,
              "#bd3786"
             ],
             [
              0.5555555555555556,
              "#d8576b"
             ],
             [
              0.6666666666666666,
              "#ed7953"
             ],
             [
              0.7777777777777778,
              "#fb9f3a"
             ],
             [
              0.8888888888888888,
              "#fdca26"
             ],
             [
              1,
              "#f0f921"
             ]
            ],
            "type": "histogram2dcontour"
           }
          ],
          "mesh3d": [
           {
            "colorbar": {
             "outlinewidth": 0,
             "ticks": ""
            },
            "type": "mesh3d"
           }
          ],
          "parcoords": [
           {
            "line": {
             "colorbar": {
              "outlinewidth": 0,
              "ticks": ""
             }
            },
            "type": "parcoords"
           }
          ],
          "pie": [
           {
            "automargin": true,
            "type": "pie"
           }
          ],
          "scatter": [
           {
            "fillpattern": {
             "fillmode": "overlay",
             "size": 10,
             "solidity": 0.2
            },
            "type": "scatter"
           }
          ],
          "scatter3d": [
           {
            "line": {
             "colorbar": {
              "outlinewidth": 0,
              "ticks": ""
             }
            },
            "marker": {
             "colorbar": {
              "outlinewidth": 0,
              "ticks": ""
             }
            },
            "type": "scatter3d"
           }
          ],
          "scattercarpet": [
           {
            "marker": {
             "colorbar": {
              "outlinewidth": 0,
              "ticks": ""
             }
            },
            "type": "scattercarpet"
           }
          ],
          "scattergeo": [
           {
            "marker": {
             "colorbar": {
              "outlinewidth": 0,
              "ticks": ""
             }
            },
            "type": "scattergeo"
           }
          ],
          "scattergl": [
           {
            "marker": {
             "colorbar": {
              "outlinewidth": 0,
              "ticks": ""
             }
            },
            "type": "scattergl"
           }
          ],
          "scattermapbox": [
           {
            "marker": {
             "colorbar": {
              "outlinewidth": 0,
              "ticks": ""
             }
            },
            "type": "scattermapbox"
           }
          ],
          "scatterpolar": [
           {
            "marker": {
             "colorbar": {
              "outlinewidth": 0,
              "ticks": ""
             }
            },
            "type": "scatterpolar"
           }
          ],
          "scatterpolargl": [
           {
            "marker": {
             "colorbar": {
              "outlinewidth": 0,
              "ticks": ""
             }
            },
            "type": "scatterpolargl"
           }
          ],
          "scatterternary": [
           {
            "marker": {
             "colorbar": {
              "outlinewidth": 0,
              "ticks": ""
             }
            },
            "type": "scatterternary"
           }
          ],
          "surface": [
           {
            "colorbar": {
             "outlinewidth": 0,
             "ticks": ""
            },
            "colorscale": [
             [
              0,
              "#0d0887"
             ],
             [
              0.1111111111111111,
              "#46039f"
             ],
             [
              0.2222222222222222,
              "#7201a8"
             ],
             [
              0.3333333333333333,
              "#9c179e"
             ],
             [
              0.4444444444444444,
              "#bd3786"
             ],
             [
              0.5555555555555556,
              "#d8576b"
             ],
             [
              0.6666666666666666,
              "#ed7953"
             ],
             [
              0.7777777777777778,
              "#fb9f3a"
             ],
             [
              0.8888888888888888,
              "#fdca26"
             ],
             [
              1,
              "#f0f921"
             ]
            ],
            "type": "surface"
           }
          ],
          "table": [
           {
            "cells": {
             "fill": {
              "color": "#EBF0F8"
             },
             "line": {
              "color": "white"
             }
            },
            "header": {
             "fill": {
              "color": "#C8D4E3"
             },
             "line": {
              "color": "white"
             }
            },
            "type": "table"
           }
          ]
         },
         "layout": {
          "annotationdefaults": {
           "arrowcolor": "#2a3f5f",
           "arrowhead": 0,
           "arrowwidth": 1
          },
          "autotypenumbers": "strict",
          "coloraxis": {
           "colorbar": {
            "outlinewidth": 0,
            "ticks": ""
           }
          },
          "colorscale": {
           "diverging": [
            [
             0,
             "#8e0152"
            ],
            [
             0.1,
             "#c51b7d"
            ],
            [
             0.2,
             "#de77ae"
            ],
            [
             0.3,
             "#f1b6da"
            ],
            [
             0.4,
             "#fde0ef"
            ],
            [
             0.5,
             "#f7f7f7"
            ],
            [
             0.6,
             "#e6f5d0"
            ],
            [
             0.7,
             "#b8e186"
            ],
            [
             0.8,
             "#7fbc41"
            ],
            [
             0.9,
             "#4d9221"
            ],
            [
             1,
             "#276419"
            ]
           ],
           "sequential": [
            [
             0,
             "#0d0887"
            ],
            [
             0.1111111111111111,
             "#46039f"
            ],
            [
             0.2222222222222222,
             "#7201a8"
            ],
            [
             0.3333333333333333,
             "#9c179e"
            ],
            [
             0.4444444444444444,
             "#bd3786"
            ],
            [
             0.5555555555555556,
             "#d8576b"
            ],
            [
             0.6666666666666666,
             "#ed7953"
            ],
            [
             0.7777777777777778,
             "#fb9f3a"
            ],
            [
             0.8888888888888888,
             "#fdca26"
            ],
            [
             1,
             "#f0f921"
            ]
           ],
           "sequentialminus": [
            [
             0,
             "#0d0887"
            ],
            [
             0.1111111111111111,
             "#46039f"
            ],
            [
             0.2222222222222222,
             "#7201a8"
            ],
            [
             0.3333333333333333,
             "#9c179e"
            ],
            [
             0.4444444444444444,
             "#bd3786"
            ],
            [
             0.5555555555555556,
             "#d8576b"
            ],
            [
             0.6666666666666666,
             "#ed7953"
            ],
            [
             0.7777777777777778,
             "#fb9f3a"
            ],
            [
             0.8888888888888888,
             "#fdca26"
            ],
            [
             1,
             "#f0f921"
            ]
           ]
          },
          "colorway": [
           "#636efa",
           "#EF553B",
           "#00cc96",
           "#ab63fa",
           "#FFA15A",
           "#19d3f3",
           "#FF6692",
           "#B6E880",
           "#FF97FF",
           "#FECB52"
          ],
          "font": {
           "color": "#2a3f5f"
          },
          "geo": {
           "bgcolor": "white",
           "lakecolor": "white",
           "landcolor": "#E5ECF6",
           "showlakes": true,
           "showland": true,
           "subunitcolor": "white"
          },
          "hoverlabel": {
           "align": "left"
          },
          "hovermode": "closest",
          "mapbox": {
           "style": "light"
          },
          "paper_bgcolor": "white",
          "plot_bgcolor": "#E5ECF6",
          "polar": {
           "angularaxis": {
            "gridcolor": "white",
            "linecolor": "white",
            "ticks": ""
           },
           "bgcolor": "#E5ECF6",
           "radialaxis": {
            "gridcolor": "white",
            "linecolor": "white",
            "ticks": ""
           }
          },
          "scene": {
           "xaxis": {
            "backgroundcolor": "#E5ECF6",
            "gridcolor": "white",
            "gridwidth": 2,
            "linecolor": "white",
            "showbackground": true,
            "ticks": "",
            "zerolinecolor": "white"
           },
           "yaxis": {
            "backgroundcolor": "#E5ECF6",
            "gridcolor": "white",
            "gridwidth": 2,
            "linecolor": "white",
            "showbackground": true,
            "ticks": "",
            "zerolinecolor": "white"
           },
           "zaxis": {
            "backgroundcolor": "#E5ECF6",
            "gridcolor": "white",
            "gridwidth": 2,
            "linecolor": "white",
            "showbackground": true,
            "ticks": "",
            "zerolinecolor": "white"
           }
          },
          "shapedefaults": {
           "line": {
            "color": "#2a3f5f"
           }
          },
          "ternary": {
           "aaxis": {
            "gridcolor": "white",
            "linecolor": "white",
            "ticks": ""
           },
           "baxis": {
            "gridcolor": "white",
            "linecolor": "white",
            "ticks": ""
           },
           "bgcolor": "#E5ECF6",
           "caxis": {
            "gridcolor": "white",
            "linecolor": "white",
            "ticks": ""
           }
          },
          "title": {
           "x": 0.05
          },
          "xaxis": {
           "automargin": true,
           "gridcolor": "white",
           "linecolor": "white",
           "ticks": "",
           "title": {
            "standoff": 15
           },
           "zerolinecolor": "white",
           "zerolinewidth": 2
          },
          "yaxis": {
           "automargin": true,
           "gridcolor": "white",
           "linecolor": "white",
           "ticks": "",
           "title": {
            "standoff": 15
           },
           "zerolinecolor": "white",
           "zerolinewidth": 2
          }
         }
        },
        "title": {
         "text": "Average Crime Rates by County Population 2022"
        },
        "xaxis": {
         "title": {
          "text": "Crime Rate"
         }
        },
        "yaxis": {
         "title": {
          "text": "Rate per 100,000 people"
         }
        },
        "yaxis2": {
         "overlaying": "y",
         "range": [
          0,
          5350.473982380564
         ],
         "showgrid": false,
         "side": "right",
         "title": {
          "text": "Total Rate"
         },
         "zeroline": false
        }
       }
      },
      "text/html": [
       "<div>                            <div id=\"950a65bd-9a5d-4dc6-878f-7f37a90fa16d\" class=\"plotly-graph-div\" style=\"height:600px; width:100%;\"></div>            <script type=\"text/javascript\">                require([\"plotly\"], function(Plotly) {                    window.PLOTLYENV=window.PLOTLYENV || {};                                    if (document.getElementById(\"950a65bd-9a5d-4dc6-878f-7f37a90fa16d\")) {                    Plotly.newPlot(                        \"950a65bd-9a5d-4dc6-878f-7f37a90fa16d\",                        [{\"marker\":{\"color\":\"blue\"},\"showlegend\":false,\"x\":[\"Murder Rate\"],\"y\":[3.6730585849958337],\"type\":\"bar\"},{\"marker\":{\"color\":\"green\"},\"showlegend\":false,\"x\":[\"Murder Rate\"],\"y\":[7.1733053300450695],\"type\":\"bar\"},{\"marker\":{\"color\":\"orange\"},\"showlegend\":false,\"x\":[\"Murder Rate\"],\"y\":[5.282510264089001],\"type\":\"bar\"},{\"marker\":{\"color\":\"red\"},\"showlegend\":false,\"x\":[\"Murder Rate\"],\"y\":[5.553796203494381],\"type\":\"bar\"},{\"marker\":{\"color\":\"blue\"},\"showlegend\":false,\"x\":[\"Rape Rate\"],\"y\":[37.59316475120548],\"type\":\"bar\"},{\"marker\":{\"color\":\"green\"},\"showlegend\":false,\"x\":[\"Rape Rate\"],\"y\":[48.38369013551409],\"type\":\"bar\"},{\"marker\":{\"color\":\"orange\"},\"showlegend\":false,\"x\":[\"Rape Rate\"],\"y\":[43.87479928974414],\"type\":\"bar\"},{\"marker\":{\"color\":\"red\"},\"showlegend\":false,\"x\":[\"Rape Rate\"],\"y\":[52.38152540445826],\"type\":\"bar\"},{\"marker\":{\"color\":\"blue\"},\"showlegend\":false,\"x\":[\"Robbery Rate\"],\"y\":[14.7051567811173],\"type\":\"bar\"},{\"marker\":{\"color\":\"green\"},\"showlegend\":false,\"x\":[\"Robbery Rate\"],\"y\":[17.434279145527064],\"type\":\"bar\"},{\"marker\":{\"color\":\"orange\"},\"showlegend\":false,\"x\":[\"Robbery Rate\"],\"y\":[17.887391336106333],\"type\":\"bar\"},{\"marker\":{\"color\":\"red\"},\"showlegend\":false,\"x\":[\"Robbery Rate\"],\"y\":[44.92137328442165],\"type\":\"bar\"},{\"marker\":{\"color\":\"blue\"},\"showlegend\":false,\"x\":[\"Assault Rate\"],\"y\":[221.70782881849277],\"type\":\"bar\"},{\"marker\":{\"color\":\"green\"},\"showlegend\":false,\"x\":[\"Assault Rate\"],\"y\":[212.4749414777263],\"type\":\"bar\"},{\"marker\":{\"color\":\"orange\"},\"showlegend\":false,\"x\":[\"Assault Rate\"],\"y\":[196.75143229684068],\"type\":\"bar\"},{\"marker\":{\"color\":\"red\"},\"showlegend\":false,\"x\":[\"Assault Rate\"],\"y\":[260.5533466774494],\"type\":\"bar\"},{\"marker\":{\"color\":\"blue\"},\"showlegend\":false,\"x\":[\"Burglary Rate\"],\"y\":[342.40992167216916],\"type\":\"bar\"},{\"marker\":{\"color\":\"green\"},\"showlegend\":false,\"x\":[\"Burglary Rate\"],\"y\":[332.5923214719629],\"type\":\"bar\"},{\"marker\":{\"color\":\"orange\"},\"showlegend\":false,\"x\":[\"Burglary Rate\"],\"y\":[284.4059921720816],\"type\":\"bar\"},{\"marker\":{\"color\":\"red\"},\"showlegend\":false,\"x\":[\"Burglary Rate\"],\"y\":[293.00945120348797],\"type\":\"bar\"},{\"marker\":{\"color\":\"blue\"},\"showlegend\":false,\"x\":[\"Larceny Rate\"],\"y\":[677.9164757580579],\"type\":\"bar\"},{\"marker\":{\"color\":\"green\"},\"showlegend\":false,\"x\":[\"Larceny Rate\"],\"y\":[935.6833439785937],\"type\":\"bar\"},{\"marker\":{\"color\":\"orange\"},\"showlegend\":false,\"x\":[\"Larceny Rate\"],\"y\":[884.7050259623846],\"type\":\"bar\"},{\"marker\":{\"color\":\"red\"},\"showlegend\":false,\"x\":[\"Larceny Rate\"],\"y\":[1382.6815505335514],\"type\":\"bar\"},{\"marker\":{\"color\":\"blue\"},\"showlegend\":false,\"x\":[\"Auto Theft Rate\"],\"y\":[123.7569441456053],\"type\":\"bar\"},{\"marker\":{\"color\":\"green\"},\"showlegend\":false,\"x\":[\"Auto Theft Rate\"],\"y\":[135.7210051433079],\"type\":\"bar\"},{\"marker\":{\"color\":\"orange\"},\"showlegend\":false,\"x\":[\"Auto Theft Rate\"],\"y\":[167.15676207173334],\"type\":\"bar\"},{\"marker\":{\"color\":\"red\"},\"showlegend\":false,\"x\":[\"Auto Theft Rate\"],\"y\":[223.77448238312135],\"type\":\"bar\"}],                        {\"template\":{\"data\":{\"histogram2dcontour\":[{\"type\":\"histogram2dcontour\",\"colorbar\":{\"outlinewidth\":0,\"ticks\":\"\"},\"colorscale\":[[0.0,\"#0d0887\"],[0.1111111111111111,\"#46039f\"],[0.2222222222222222,\"#7201a8\"],[0.3333333333333333,\"#9c179e\"],[0.4444444444444444,\"#bd3786\"],[0.5555555555555556,\"#d8576b\"],[0.6666666666666666,\"#ed7953\"],[0.7777777777777778,\"#fb9f3a\"],[0.8888888888888888,\"#fdca26\"],[1.0,\"#f0f921\"]]}],\"choropleth\":[{\"type\":\"choropleth\",\"colorbar\":{\"outlinewidth\":0,\"ticks\":\"\"}}],\"histogram2d\":[{\"type\":\"histogram2d\",\"colorbar\":{\"outlinewidth\":0,\"ticks\":\"\"},\"colorscale\":[[0.0,\"#0d0887\"],[0.1111111111111111,\"#46039f\"],[0.2222222222222222,\"#7201a8\"],[0.3333333333333333,\"#9c179e\"],[0.4444444444444444,\"#bd3786\"],[0.5555555555555556,\"#d8576b\"],[0.6666666666666666,\"#ed7953\"],[0.7777777777777778,\"#fb9f3a\"],[0.8888888888888888,\"#fdca26\"],[1.0,\"#f0f921\"]]}],\"heatmap\":[{\"type\":\"heatmap\",\"colorbar\":{\"outlinewidth\":0,\"ticks\":\"\"},\"colorscale\":[[0.0,\"#0d0887\"],[0.1111111111111111,\"#46039f\"],[0.2222222222222222,\"#7201a8\"],[0.3333333333333333,\"#9c179e\"],[0.4444444444444444,\"#bd3786\"],[0.5555555555555556,\"#d8576b\"],[0.6666666666666666,\"#ed7953\"],[0.7777777777777778,\"#fb9f3a\"],[0.8888888888888888,\"#fdca26\"],[1.0,\"#f0f921\"]]}],\"heatmapgl\":[{\"type\":\"heatmapgl\",\"colorbar\":{\"outlinewidth\":0,\"ticks\":\"\"},\"colorscale\":[[0.0,\"#0d0887\"],[0.1111111111111111,\"#46039f\"],[0.2222222222222222,\"#7201a8\"],[0.3333333333333333,\"#9c179e\"],[0.4444444444444444,\"#bd3786\"],[0.5555555555555556,\"#d8576b\"],[0.6666666666666666,\"#ed7953\"],[0.7777777777777778,\"#fb9f3a\"],[0.8888888888888888,\"#fdca26\"],[1.0,\"#f0f921\"]]}],\"contourcarpet\":[{\"type\":\"contourcarpet\",\"colorbar\":{\"outlinewidth\":0,\"ticks\":\"\"}}],\"contour\":[{\"type\":\"contour\",\"colorbar\":{\"outlinewidth\":0,\"ticks\":\"\"},\"colorscale\":[[0.0,\"#0d0887\"],[0.1111111111111111,\"#46039f\"],[0.2222222222222222,\"#7201a8\"],[0.3333333333333333,\"#9c179e\"],[0.4444444444444444,\"#bd3786\"],[0.5555555555555556,\"#d8576b\"],[0.6666666666666666,\"#ed7953\"],[0.7777777777777778,\"#fb9f3a\"],[0.8888888888888888,\"#fdca26\"],[1.0,\"#f0f921\"]]}],\"surface\":[{\"type\":\"surface\",\"colorbar\":{\"outlinewidth\":0,\"ticks\":\"\"},\"colorscale\":[[0.0,\"#0d0887\"],[0.1111111111111111,\"#46039f\"],[0.2222222222222222,\"#7201a8\"],[0.3333333333333333,\"#9c179e\"],[0.4444444444444444,\"#bd3786\"],[0.5555555555555556,\"#d8576b\"],[0.6666666666666666,\"#ed7953\"],[0.7777777777777778,\"#fb9f3a\"],[0.8888888888888888,\"#fdca26\"],[1.0,\"#f0f921\"]]}],\"mesh3d\":[{\"type\":\"mesh3d\",\"colorbar\":{\"outlinewidth\":0,\"ticks\":\"\"}}],\"scatter\":[{\"fillpattern\":{\"fillmode\":\"overlay\",\"size\":10,\"solidity\":0.2},\"type\":\"scatter\"}],\"parcoords\":[{\"type\":\"parcoords\",\"line\":{\"colorbar\":{\"outlinewidth\":0,\"ticks\":\"\"}}}],\"scatterpolargl\":[{\"type\":\"scatterpolargl\",\"marker\":{\"colorbar\":{\"outlinewidth\":0,\"ticks\":\"\"}}}],\"bar\":[{\"error_x\":{\"color\":\"#2a3f5f\"},\"error_y\":{\"color\":\"#2a3f5f\"},\"marker\":{\"line\":{\"color\":\"#E5ECF6\",\"width\":0.5},\"pattern\":{\"fillmode\":\"overlay\",\"size\":10,\"solidity\":0.2}},\"type\":\"bar\"}],\"scattergeo\":[{\"type\":\"scattergeo\",\"marker\":{\"colorbar\":{\"outlinewidth\":0,\"ticks\":\"\"}}}],\"scatterpolar\":[{\"type\":\"scatterpolar\",\"marker\":{\"colorbar\":{\"outlinewidth\":0,\"ticks\":\"\"}}}],\"histogram\":[{\"marker\":{\"pattern\":{\"fillmode\":\"overlay\",\"size\":10,\"solidity\":0.2}},\"type\":\"histogram\"}],\"scattergl\":[{\"type\":\"scattergl\",\"marker\":{\"colorbar\":{\"outlinewidth\":0,\"ticks\":\"\"}}}],\"scatter3d\":[{\"type\":\"scatter3d\",\"line\":{\"colorbar\":{\"outlinewidth\":0,\"ticks\":\"\"}},\"marker\":{\"colorbar\":{\"outlinewidth\":0,\"ticks\":\"\"}}}],\"scattermapbox\":[{\"type\":\"scattermapbox\",\"marker\":{\"colorbar\":{\"outlinewidth\":0,\"ticks\":\"\"}}}],\"scatterternary\":[{\"type\":\"scatterternary\",\"marker\":{\"colorbar\":{\"outlinewidth\":0,\"ticks\":\"\"}}}],\"scattercarpet\":[{\"type\":\"scattercarpet\",\"marker\":{\"colorbar\":{\"outlinewidth\":0,\"ticks\":\"\"}}}],\"carpet\":[{\"aaxis\":{\"endlinecolor\":\"#2a3f5f\",\"gridcolor\":\"white\",\"linecolor\":\"white\",\"minorgridcolor\":\"white\",\"startlinecolor\":\"#2a3f5f\"},\"baxis\":{\"endlinecolor\":\"#2a3f5f\",\"gridcolor\":\"white\",\"linecolor\":\"white\",\"minorgridcolor\":\"white\",\"startlinecolor\":\"#2a3f5f\"},\"type\":\"carpet\"}],\"table\":[{\"cells\":{\"fill\":{\"color\":\"#EBF0F8\"},\"line\":{\"color\":\"white\"}},\"header\":{\"fill\":{\"color\":\"#C8D4E3\"},\"line\":{\"color\":\"white\"}},\"type\":\"table\"}],\"barpolar\":[{\"marker\":{\"line\":{\"color\":\"#E5ECF6\",\"width\":0.5},\"pattern\":{\"fillmode\":\"overlay\",\"size\":10,\"solidity\":0.2}},\"type\":\"barpolar\"}],\"pie\":[{\"automargin\":true,\"type\":\"pie\"}]},\"layout\":{\"autotypenumbers\":\"strict\",\"colorway\":[\"#636efa\",\"#EF553B\",\"#00cc96\",\"#ab63fa\",\"#FFA15A\",\"#19d3f3\",\"#FF6692\",\"#B6E880\",\"#FF97FF\",\"#FECB52\"],\"font\":{\"color\":\"#2a3f5f\"},\"hovermode\":\"closest\",\"hoverlabel\":{\"align\":\"left\"},\"paper_bgcolor\":\"white\",\"plot_bgcolor\":\"#E5ECF6\",\"polar\":{\"bgcolor\":\"#E5ECF6\",\"angularaxis\":{\"gridcolor\":\"white\",\"linecolor\":\"white\",\"ticks\":\"\"},\"radialaxis\":{\"gridcolor\":\"white\",\"linecolor\":\"white\",\"ticks\":\"\"}},\"ternary\":{\"bgcolor\":\"#E5ECF6\",\"aaxis\":{\"gridcolor\":\"white\",\"linecolor\":\"white\",\"ticks\":\"\"},\"baxis\":{\"gridcolor\":\"white\",\"linecolor\":\"white\",\"ticks\":\"\"},\"caxis\":{\"gridcolor\":\"white\",\"linecolor\":\"white\",\"ticks\":\"\"}},\"coloraxis\":{\"colorbar\":{\"outlinewidth\":0,\"ticks\":\"\"}},\"colorscale\":{\"sequential\":[[0.0,\"#0d0887\"],[0.1111111111111111,\"#46039f\"],[0.2222222222222222,\"#7201a8\"],[0.3333333333333333,\"#9c179e\"],[0.4444444444444444,\"#bd3786\"],[0.5555555555555556,\"#d8576b\"],[0.6666666666666666,\"#ed7953\"],[0.7777777777777778,\"#fb9f3a\"],[0.8888888888888888,\"#fdca26\"],[1.0,\"#f0f921\"]],\"sequentialminus\":[[0.0,\"#0d0887\"],[0.1111111111111111,\"#46039f\"],[0.2222222222222222,\"#7201a8\"],[0.3333333333333333,\"#9c179e\"],[0.4444444444444444,\"#bd3786\"],[0.5555555555555556,\"#d8576b\"],[0.6666666666666666,\"#ed7953\"],[0.7777777777777778,\"#fb9f3a\"],[0.8888888888888888,\"#fdca26\"],[1.0,\"#f0f921\"]],\"diverging\":[[0,\"#8e0152\"],[0.1,\"#c51b7d\"],[0.2,\"#de77ae\"],[0.3,\"#f1b6da\"],[0.4,\"#fde0ef\"],[0.5,\"#f7f7f7\"],[0.6,\"#e6f5d0\"],[0.7,\"#b8e186\"],[0.8,\"#7fbc41\"],[0.9,\"#4d9221\"],[1,\"#276419\"]]},\"xaxis\":{\"gridcolor\":\"white\",\"linecolor\":\"white\",\"ticks\":\"\",\"title\":{\"standoff\":15},\"zerolinecolor\":\"white\",\"automargin\":true,\"zerolinewidth\":2},\"yaxis\":{\"gridcolor\":\"white\",\"linecolor\":\"white\",\"ticks\":\"\",\"title\":{\"standoff\":15},\"zerolinecolor\":\"white\",\"automargin\":true,\"zerolinewidth\":2},\"scene\":{\"xaxis\":{\"backgroundcolor\":\"#E5ECF6\",\"gridcolor\":\"white\",\"linecolor\":\"white\",\"showbackground\":true,\"ticks\":\"\",\"zerolinecolor\":\"white\",\"gridwidth\":2},\"yaxis\":{\"backgroundcolor\":\"#E5ECF6\",\"gridcolor\":\"white\",\"linecolor\":\"white\",\"showbackground\":true,\"ticks\":\"\",\"zerolinecolor\":\"white\",\"gridwidth\":2},\"zaxis\":{\"backgroundcolor\":\"#E5ECF6\",\"gridcolor\":\"white\",\"linecolor\":\"white\",\"showbackground\":true,\"ticks\":\"\",\"zerolinecolor\":\"white\",\"gridwidth\":2}},\"shapedefaults\":{\"line\":{\"color\":\"#2a3f5f\"}},\"annotationdefaults\":{\"arrowcolor\":\"#2a3f5f\",\"arrowhead\":0,\"arrowwidth\":1},\"geo\":{\"bgcolor\":\"white\",\"landcolor\":\"#E5ECF6\",\"subunitcolor\":\"white\",\"showland\":true,\"showlakes\":true,\"lakecolor\":\"white\"},\"title\":{\"x\":0.05},\"mapbox\":{\"style\":\"light\"}}},\"yaxis2\":{\"title\":{\"text\":\"Total Rate\"},\"overlaying\":\"y\",\"side\":\"right\",\"showgrid\":false,\"zeroline\":false,\"range\":[0,5350.473982380564]},\"barmode\":\"group\",\"title\":{\"text\":\"Average Crime Rates by County Population 2022\"},\"xaxis\":{\"title\":{\"text\":\"Crime Rate\"}},\"yaxis\":{\"title\":{\"text\":\"Rate per 100,000 people\"}},\"height\":600},                        {\"responsive\": true}                    ).then(function(){\n",
       "                            \n",
       "var gd = document.getElementById('950a65bd-9a5d-4dc6-878f-7f37a90fa16d');\n",
       "var x = new MutationObserver(function (mutations, observer) {{\n",
       "        var display = window.getComputedStyle(gd).display;\n",
       "        if (!display || display === 'none') {{\n",
       "            console.log([gd, 'removed!']);\n",
       "            Plotly.purge(gd);\n",
       "            observer.disconnect();\n",
       "        }}\n",
       "}});\n",
       "\n",
       "// Listen for the removal of the full notebook cells\n",
       "var notebookContainer = gd.closest('#notebook-container');\n",
       "if (notebookContainer) {{\n",
       "    x.observe(notebookContainer, {childList: true});\n",
       "}}\n",
       "\n",
       "// Listen for the clearing of the current output cell\n",
       "var outputEl = gd.closest('.output');\n",
       "if (outputEl) {{\n",
       "    x.observe(outputEl, {childList: true});\n",
       "}}\n",
       "\n",
       "                        })                };                });            </script>        </div>"
      ]
     },
     "metadata": {},
     "output_type": "display_data"
    }
   ],
   "source": [
    "import plotly.graph_objects as go\n",
    "import pandas as pd\n",
    "\n",
    "# Assuming you have a DataFrame named df\n",
    "\n",
    "# Define colors for each population bin\n",
    "colors = ['blue', 'green', 'orange', 'red']\n",
    "\n",
    "# Exclude counties with populations from 0 to 10,000, be\n",
    "filtered_df = df[df['Population'] > 10000]\n",
    "\n",
    "# Define the updated population bins\n",
    "population_bins = [10000, 25000, 50000, 100000, float('inf')]\n",
    "population_labels = ['10k-25k', '25k-50k', '50k-100k', '100k+']\n",
    "\n",
    "# Create a new column in df for the updated population size category\n",
    "filtered_df['Population Category'] = pd.cut(filtered_df['Population'], bins=population_bins, labels=population_labels, right=False)\n",
    "\n",
    "# Bar Chart\n",
    "fig = go.Figure()\n",
    "\n",
    "# crimes loop\n",
    "for crime_rate in ['Murder Rate', 'Rape Rate', 'Robbery Rate', 'Assault Rate', 'Burglary Rate', 'Larceny Rate', 'Auto Theft Rate']:\n",
    "    # Loop through population bins\n",
    "    for i, pop_bin in enumerate(population_labels):\n",
    "        avg_rate = filtered_df.loc[filtered_df['Population Category'] == pop_bin, crime_rate].mean()\n",
    "        # Set showlegend to False to hide the legend\n",
    "        fig.add_trace(go.Bar(x=[crime_rate], y=[avg_rate], marker_color=colors[i], showlegend=False))\n",
    "\n",
    "# total rate, didnt work\n",
    "fig.update_layout(\n",
    "    yaxis2=dict(\n",
    "        title='Total Rate',\n",
    "        overlaying='y',\n",
    "        side='right',\n",
    "        showgrid=False,\n",
    "        zeroline=False,\n",
    "        range=[0, filtered_df['Total Rate'].max() + 500]\n",
    "    )\n",
    ")\n",
    "\n",
    "# Update the layout\n",
    "fig.update_layout(\n",
    "    barmode='group',\n",
    "    title='Average Crime Rates by County Population 2022',\n",
    "    xaxis_title='Crime Rate',\n",
    "    yaxis_title='Rate per 100,000 people',\n",
    "    height=600\n",
    ")\n",
    "\n",
    "# Show \n",
    "fig.show()\n"
   ]
  },
  {
   "cell_type": "code",
   "execution_count": 8,
   "id": "710b62d3",
   "metadata": {},
   "outputs": [
    {
     "data": {
      "application/vnd.plotly.v1+json": {
       "config": {
        "plotlyServerURL": "https://plot.ly"
       },
       "data": [
        {
         "customdata": [
          [
           "Anderson"
          ],
          [
           "Andrews"
          ],
          [
           "Angelina"
          ],
          [
           "Aransas"
          ],
          [
           "Archer"
          ],
          [
           "Armstrong"
          ],
          [
           "Atascosa"
          ],
          [
           "Austin"
          ],
          [
           "Bailey"
          ],
          [
           "Bandera"
          ],
          [
           "Bastrop"
          ],
          [
           "Baylor"
          ],
          [
           "Bee"
          ],
          [
           "Bell"
          ],
          [
           "Bexar"
          ],
          [
           "Blanco"
          ],
          [
           "Borden"
          ],
          [
           "Bosque"
          ],
          [
           "Bowie"
          ],
          [
           "Brazoria"
          ],
          [
           "Brazos"
          ],
          [
           "Brewster"
          ],
          [
           "Briscoe"
          ],
          [
           "Brooks"
          ],
          [
           "Brown"
          ],
          [
           "Burleson"
          ],
          [
           "Burnet"
          ],
          [
           "Caldwell"
          ],
          [
           "Calhoun"
          ],
          [
           "Callahan"
          ],
          [
           "Cameron"
          ],
          [
           "Camp"
          ],
          [
           "Carson"
          ],
          [
           "Cass"
          ],
          [
           "Castro"
          ],
          [
           "Chambers"
          ],
          [
           "Cherokee"
          ],
          [
           "Childress"
          ],
          [
           "Clay"
          ],
          [
           "Cochran"
          ],
          [
           "Coke"
          ],
          [
           "Coleman"
          ],
          [
           "Collin"
          ],
          [
           "Collingsworth"
          ],
          [
           "Colorado"
          ],
          [
           "Comal"
          ],
          [
           "Comanche"
          ],
          [
           "Concho"
          ],
          [
           "Cooke"
          ],
          [
           "Coryell"
          ],
          [
           "Cottle"
          ],
          [
           "Crane"
          ],
          [
           "Crockett"
          ],
          [
           "Crosby"
          ],
          [
           "Culberson"
          ],
          [
           "Dallam"
          ],
          [
           "Dallas"
          ],
          [
           "Dawson"
          ],
          [
           "Deaf Smith"
          ],
          [
           "Delta"
          ],
          [
           "Denton"
          ],
          [
           "Dewitt"
          ],
          [
           "Dickens"
          ],
          [
           "Dimmit"
          ],
          [
           "Donley"
          ],
          [
           "Duval"
          ],
          [
           "Eastland"
          ],
          [
           "Ector"
          ],
          [
           "Edwards"
          ],
          [
           "Ellis"
          ],
          [
           "El Paso"
          ],
          [
           "Erath"
          ],
          [
           "Falls"
          ],
          [
           "Fannin"
          ],
          [
           "Fayette"
          ],
          [
           "Fisher"
          ],
          [
           "Floyd"
          ],
          [
           "Foard"
          ],
          [
           "Fort Bend"
          ],
          [
           "Franklin"
          ],
          [
           "Freestone"
          ],
          [
           "Frio"
          ],
          [
           "Gaines"
          ],
          [
           "Galveston"
          ],
          [
           "Garza"
          ],
          [
           "Gillespie"
          ],
          [
           "Glasscock"
          ],
          [
           "Goliad"
          ],
          [
           "Gonzales"
          ],
          [
           "Gray"
          ],
          [
           "Grayson"
          ],
          [
           "Gregg"
          ],
          [
           "Grimes"
          ],
          [
           "Guadalupe"
          ],
          [
           "Hale"
          ],
          [
           "Hall"
          ],
          [
           "Hamilton"
          ],
          [
           "Hansford"
          ],
          [
           "Hardeman"
          ],
          [
           "Hardin"
          ],
          [
           "Harris"
          ],
          [
           "Harrison"
          ],
          [
           "Hartley"
          ],
          [
           "Haskell"
          ],
          [
           "Hays"
          ],
          [
           "Hemphill"
          ],
          [
           "Henderson"
          ],
          [
           "Hidalgo"
          ],
          [
           "Hill"
          ],
          [
           "Hockley"
          ],
          [
           "Hood"
          ],
          [
           "Hopkins"
          ],
          [
           "Houston"
          ],
          [
           "Howard"
          ],
          [
           "Hudspeth"
          ],
          [
           "Hunt"
          ],
          [
           "Hutchinson"
          ],
          [
           "Irion"
          ],
          [
           "Jack"
          ],
          [
           "Jackson"
          ],
          [
           "Jasper"
          ],
          [
           "Jeff Davis"
          ],
          [
           "Jefferson"
          ],
          [
           "Jim Hogg"
          ],
          [
           "Jim Wells"
          ],
          [
           "Johnson"
          ],
          [
           "Jones"
          ],
          [
           "Karnes"
          ],
          [
           "Kaufman"
          ],
          [
           "Kendall"
          ],
          [
           "Kenedy"
          ],
          [
           "Kent"
          ],
          [
           "Kerr"
          ],
          [
           "Kimble"
          ],
          [
           "King"
          ],
          [
           "Kinney"
          ],
          [
           "Kleberg"
          ],
          [
           "Knox"
          ],
          [
           "Lamar"
          ],
          [
           "Lamb"
          ],
          [
           "Lampasas"
          ],
          [
           "La Salle"
          ],
          [
           "Lavaca"
          ],
          [
           "Lee"
          ],
          [
           "Leon"
          ],
          [
           "Liberty"
          ],
          [
           "Limestone"
          ],
          [
           "Lipscomb"
          ],
          [
           "Live Oak"
          ],
          [
           "Llano"
          ],
          [
           "Loving"
          ],
          [
           "Lubbock"
          ],
          [
           "Lynn"
          ],
          [
           "Mcculloch"
          ],
          [
           "Mclennan"
          ],
          [
           "Mcmullen"
          ],
          [
           "Madison"
          ],
          [
           "Marion"
          ],
          [
           "Martin"
          ],
          [
           "Mason"
          ],
          [
           "Matagorda"
          ],
          [
           "Maverick"
          ],
          [
           "Medina"
          ],
          [
           "Menard"
          ],
          [
           "Midland"
          ],
          [
           "Milam"
          ],
          [
           "Mills"
          ],
          [
           "Mitchell"
          ],
          [
           "Montague"
          ],
          [
           "Montgomery"
          ],
          [
           "Moore"
          ],
          [
           "Morris"
          ],
          [
           "Motley"
          ],
          [
           "Nacogdoches"
          ],
          [
           "Navarro"
          ],
          [
           "Newton"
          ],
          [
           "Nolan"
          ],
          [
           "Nueces"
          ],
          [
           "Ochiltree"
          ],
          [
           "Oldham"
          ],
          [
           "Orange"
          ],
          [
           "Palo Pinto"
          ],
          [
           "Panola"
          ],
          [
           "Parker"
          ],
          [
           "Parmer"
          ],
          [
           "Pecos"
          ],
          [
           "Polk"
          ],
          [
           "Potter"
          ],
          [
           "Presidio"
          ],
          [
           "Rains"
          ],
          [
           "Randall"
          ],
          [
           "Reagan"
          ],
          [
           "Real"
          ],
          [
           "Red River"
          ],
          [
           "Reeves"
          ],
          [
           "Refugio"
          ],
          [
           "Roberts"
          ],
          [
           "Robertson"
          ],
          [
           "Rockwall"
          ],
          [
           "Runnels"
          ],
          [
           "Rusk"
          ],
          [
           "Sabine"
          ],
          [
           "San Augustine"
          ],
          [
           "San Jacinto"
          ],
          [
           "San Patricio"
          ],
          [
           "San Saba"
          ],
          [
           "Schleicher"
          ],
          [
           "Scurry"
          ],
          [
           "Shackelford"
          ],
          [
           "Shelby"
          ],
          [
           "Sherman"
          ],
          [
           "Smith"
          ],
          [
           "Somervell"
          ],
          [
           "Starr"
          ],
          [
           "Stephens"
          ],
          [
           "Sterling"
          ],
          [
           "Stonewall"
          ],
          [
           "Sutton"
          ],
          [
           "Swisher"
          ],
          [
           "Tarrant"
          ],
          [
           "Taylor"
          ],
          [
           "Terrell"
          ],
          [
           "Terry"
          ],
          [
           "Throckmorton"
          ],
          [
           "Titus"
          ],
          [
           "Tom Green"
          ],
          [
           "Travis"
          ],
          [
           "Trinity"
          ],
          [
           "Tyler"
          ],
          [
           "Upshur"
          ],
          [
           "Upton"
          ],
          [
           "Uvalde"
          ],
          [
           "Val Verde"
          ],
          [
           "Van Zandt"
          ],
          [
           "Victoria"
          ],
          [
           "Walker"
          ],
          [
           "Waller"
          ],
          [
           "Ward"
          ],
          [
           "Washington"
          ],
          [
           "Webb"
          ],
          [
           "Wharton"
          ],
          [
           "Wheeler"
          ],
          [
           "Wichita"
          ],
          [
           "Wilbarger"
          ],
          [
           "Willacy"
          ],
          [
           "Williamson"
          ],
          [
           "Wilson"
          ],
          [
           "Winkler"
          ],
          [
           "Wise"
          ],
          [
           "Wood"
          ],
          [
           "Yoakum"
          ],
          [
           "Young"
          ],
          [
           "Zapata"
          ],
          [
           "Zavala"
          ]
         ],
         "hovertemplate": "Burglary Count=%{x}<br>Population=%{y}<br>County=%{customdata[0]}<extra></extra>",
         "legendgroup": "",
         "marker": {
          "color": "yellow",
          "opacity": 0.7,
          "symbol": "circle"
         },
         "mode": "markers",
         "name": "",
         "orientation": "v",
         "showlegend": false,
         "type": "scatter",
         "x": [
          124,
          32,
          410,
          151,
          4,
          4,
          213,
          56,
          5,
          52,
          245,
          7,
          472,
          986,
          11040,
          20,
          2,
          31,
          199,
          772,
          410,
          8,
          5,
          4,
          143,
          51,
          124,
          51,
          49,
          39,
          959,
          43,
          1,
          67,
          11,
          156,
          142,
          28,
          27,
          9,
          129,
          10,
          1465,
          1,
          41,
          423,
          34,
          3,
          92,
          132,
          1,
          8,
          8,
          10,
          1,
          14,
          11529,
          59,
          64,
          20,
          1014,
          39,
          1,
          1,
          6,
          30,
          46,
          405,
          7,
          263,
          1195,
          65,
          118,
          33,
          54,
          17,
          23,
          1,
          1287,
          114,
          243,
          51,
          24,
          975,
          13,
          24,
          15,
          25,
          76,
          86,
          481,
          633,
          146,
          255,
          94,
          7,
          16,
          3,
          8,
          92,
          23736,
          290,
          1,
          4,
          480,
          20,
          243,
          1926,
          75,
          114,
          104,
          29,
          60,
          169,
          1,
          222,
          119,
          2,
          10,
          16,
          81,
          1,
          1414,
          19,
          231,
          288,
          23,
          71,
          350,
          111,
          1,
          1,
          99,
          4,
          1,
          1,
          157,
          12,
          214,
          31,
          20,
          4,
          28,
          42,
          54,
          260,
          108,
          3,
          5,
          56,
          2,
          2489,
          11,
          36,
          1217,
          1,
          27,
          44,
          18,
          1,
          178,
          334,
          138,
          1,
          380,
          68,
          7,
          1,
          133,
          1255,
          51,
          20,
          2,
          147,
          142,
          33,
          65,
          1744,
          25,
          2,
          298,
          173,
          58,
          338,
          38,
          12,
          158,
          1211,
          1,
          1,
          54,
          6,
          19,
          13,
          30,
          15,
          1,
          135,
          119,
          68,
          148,
          19,
          43,
          1,
          148,
          9,
          9,
          46,
          4,
          103,
          1,
          548,
          22,
          133,
          27,
          3,
          1,
          6,
          33,
          6437,
          481,
          1,
          57,
          2,
          86,
          471,
          5678,
          30,
          61,
          83,
          4,
          90,
          191,
          155,
          328,
          209,
          159,
          33,
          69,
          429,
          136,
          1,
          592,
          34,
          77,
          870,
          105,
          23,
          134,
          108,
          11,
          23,
          12,
          9
         ],
         "xaxis": "x",
         "y": [
          20230,
          18380,
          82128,
          31050,
          1593,
          1842,
          51974,
          30837,
          6852,
          22292,
          108569,
          3511,
          31043,
          386098,
          2056933,
          10617,
          598,
          18898,
          91424,
          397134,
          241050,
          9391,
          1393,
          7000,
          38613,
          18578,
          49725,
          46366,
          19529,
          14577,
          421773,
          12861,
          5719,
          28571,
          7455,
          46257,
          51931,
          6866,
          10343,
          2489,
          3374,
          7847,
          1153886,
          2611,
          17330,
          208617,
          14036,
          3383,
          42011,
          86872,
          1,
          4720,
          3044,
          1051,
          1,
          10116,
          2880842,
          12351,
          18266,
          5589,
          744185,
          16261,
          1,
          1,
          3287,
          6780,
          16315,
          161546,
          1471,
          201136,
          875027,
          44315,
          15719,
          26067,
          25074,
          3757,
          5354,
          337,
          845866,
          9826,
          20230,
          10979,
          20026,
          372065,
          5969,
          28041,
          1192,
          7369,
          17395,
          21007,
          135482,
          133105,
          31373,
          110818,
          23309,
          2781,
          8277,
          5095,
          3015,
          58024,
          4788785,
          67522,
          2620,
          5392,
          268138,
          3196,
          83077,
          886226,
          35792,
          21364,
          65935,
          37150,
          22550,
          33673,
          3401,
          99371,
          20574,
          1593,
          8992,
          15335,
          31259,
          1932,
          253036,
          4792,
          34734,
          201410,
          12538,
          14876,
          169921,
          46907,
          336,
          1,
          53972,
          4469,
          248,
          1,
          30497,
          1047,
          50420,
          10023,
          21193,
          6198,
          22946,
          18023,
          15035,
          95334,
          22259,
          2841,
          2194,
          19073,
          48,
          316856,
          5178,
          7544,
          258233,
          1,
          14019,
          9596,
          5162,
          3946,
          36638,
          58619,
          51404,
          1,
          163009,
          25647,
          4548,
          1,
          16953,
          670242,
          21090,
          9833,
          1088,
          65100,
          54737,
          12394,
          14561,
          352044,
          9665,
          1684,
          85213,
          29286,
          22784,
          161150,
          9834,
          8411,
          53651,
          218402,
          2880,
          1359,
          44583,
          3153,
          2929,
          11629,
          12483,
          6806,
          777,
          17282,
          121643,
          10025,
          50636,
          9243,
          7973,
          1,
          46042,
          3197,
          2431,
          16818,
          3325,
          23104,
          1973,
          239668,
          9789,
          66662,
          9324,
          1387,
          1,
          3297,
          5918,
          2095201,
          149452,
          709,
          11786,
          1558,
          31289,
          119434,
          1369051,
          11709,
          20483,
          40434,
          3253,
          25069,
          47831,
          63280,
          91237,
          79915,
          57871,
          10815,
          36161,
          265918,
          42144,
          3157,
          131378,
          12693,
          18159,
          628141,
          50962,
          7138,
          75128,
          47838,
          7591,
          18225,
          14016,
          3222
         ],
         "yaxis": "y"
        }
       ],
       "layout": {
        "height": 600,
        "legend": {
         "tracegroupgap": 0
        },
        "showlegend": false,
        "template": {
         "data": {
          "bar": [
           {
            "error_x": {
             "color": "#f2f5fa"
            },
            "error_y": {
             "color": "#f2f5fa"
            },
            "marker": {
             "line": {
              "color": "rgb(17,17,17)",
              "width": 0.5
             },
             "pattern": {
              "fillmode": "overlay",
              "size": 10,
              "solidity": 0.2
             }
            },
            "type": "bar"
           }
          ],
          "barpolar": [
           {
            "marker": {
             "line": {
              "color": "rgb(17,17,17)",
              "width": 0.5
             },
             "pattern": {
              "fillmode": "overlay",
              "size": 10,
              "solidity": 0.2
             }
            },
            "type": "barpolar"
           }
          ],
          "carpet": [
           {
            "aaxis": {
             "endlinecolor": "#A2B1C6",
             "gridcolor": "#506784",
             "linecolor": "#506784",
             "minorgridcolor": "#506784",
             "startlinecolor": "#A2B1C6"
            },
            "baxis": {
             "endlinecolor": "#A2B1C6",
             "gridcolor": "#506784",
             "linecolor": "#506784",
             "minorgridcolor": "#506784",
             "startlinecolor": "#A2B1C6"
            },
            "type": "carpet"
           }
          ],
          "choropleth": [
           {
            "colorbar": {
             "outlinewidth": 0,
             "ticks": ""
            },
            "type": "choropleth"
           }
          ],
          "contour": [
           {
            "colorbar": {
             "outlinewidth": 0,
             "ticks": ""
            },
            "colorscale": [
             [
              0,
              "#0d0887"
             ],
             [
              0.1111111111111111,
              "#46039f"
             ],
             [
              0.2222222222222222,
              "#7201a8"
             ],
             [
              0.3333333333333333,
              "#9c179e"
             ],
             [
              0.4444444444444444,
              "#bd3786"
             ],
             [
              0.5555555555555556,
              "#d8576b"
             ],
             [
              0.6666666666666666,
              "#ed7953"
             ],
             [
              0.7777777777777778,
              "#fb9f3a"
             ],
             [
              0.8888888888888888,
              "#fdca26"
             ],
             [
              1,
              "#f0f921"
             ]
            ],
            "type": "contour"
           }
          ],
          "contourcarpet": [
           {
            "colorbar": {
             "outlinewidth": 0,
             "ticks": ""
            },
            "type": "contourcarpet"
           }
          ],
          "heatmap": [
           {
            "colorbar": {
             "outlinewidth": 0,
             "ticks": ""
            },
            "colorscale": [
             [
              0,
              "#0d0887"
             ],
             [
              0.1111111111111111,
              "#46039f"
             ],
             [
              0.2222222222222222,
              "#7201a8"
             ],
             [
              0.3333333333333333,
              "#9c179e"
             ],
             [
              0.4444444444444444,
              "#bd3786"
             ],
             [
              0.5555555555555556,
              "#d8576b"
             ],
             [
              0.6666666666666666,
              "#ed7953"
             ],
             [
              0.7777777777777778,
              "#fb9f3a"
             ],
             [
              0.8888888888888888,
              "#fdca26"
             ],
             [
              1,
              "#f0f921"
             ]
            ],
            "type": "heatmap"
           }
          ],
          "heatmapgl": [
           {
            "colorbar": {
             "outlinewidth": 0,
             "ticks": ""
            },
            "colorscale": [
             [
              0,
              "#0d0887"
             ],
             [
              0.1111111111111111,
              "#46039f"
             ],
             [
              0.2222222222222222,
              "#7201a8"
             ],
             [
              0.3333333333333333,
              "#9c179e"
             ],
             [
              0.4444444444444444,
              "#bd3786"
             ],
             [
              0.5555555555555556,
              "#d8576b"
             ],
             [
              0.6666666666666666,
              "#ed7953"
             ],
             [
              0.7777777777777778,
              "#fb9f3a"
             ],
             [
              0.8888888888888888,
              "#fdca26"
             ],
             [
              1,
              "#f0f921"
             ]
            ],
            "type": "heatmapgl"
           }
          ],
          "histogram": [
           {
            "marker": {
             "pattern": {
              "fillmode": "overlay",
              "size": 10,
              "solidity": 0.2
             }
            },
            "type": "histogram"
           }
          ],
          "histogram2d": [
           {
            "colorbar": {
             "outlinewidth": 0,
             "ticks": ""
            },
            "colorscale": [
             [
              0,
              "#0d0887"
             ],
             [
              0.1111111111111111,
              "#46039f"
             ],
             [
              0.2222222222222222,
              "#7201a8"
             ],
             [
              0.3333333333333333,
              "#9c179e"
             ],
             [
              0.4444444444444444,
              "#bd3786"
             ],
             [
              0.5555555555555556,
              "#d8576b"
             ],
             [
              0.6666666666666666,
              "#ed7953"
             ],
             [
              0.7777777777777778,
              "#fb9f3a"
             ],
             [
              0.8888888888888888,
              "#fdca26"
             ],
             [
              1,
              "#f0f921"
             ]
            ],
            "type": "histogram2d"
           }
          ],
          "histogram2dcontour": [
           {
            "colorbar": {
             "outlinewidth": 0,
             "ticks": ""
            },
            "colorscale": [
             [
              0,
              "#0d0887"
             ],
             [
              0.1111111111111111,
              "#46039f"
             ],
             [
              0.2222222222222222,
              "#7201a8"
             ],
             [
              0.3333333333333333,
              "#9c179e"
             ],
             [
              0.4444444444444444,
              "#bd3786"
             ],
             [
              0.5555555555555556,
              "#d8576b"
             ],
             [
              0.6666666666666666,
              "#ed7953"
             ],
             [
              0.7777777777777778,
              "#fb9f3a"
             ],
             [
              0.8888888888888888,
              "#fdca26"
             ],
             [
              1,
              "#f0f921"
             ]
            ],
            "type": "histogram2dcontour"
           }
          ],
          "mesh3d": [
           {
            "colorbar": {
             "outlinewidth": 0,
             "ticks": ""
            },
            "type": "mesh3d"
           }
          ],
          "parcoords": [
           {
            "line": {
             "colorbar": {
              "outlinewidth": 0,
              "ticks": ""
             }
            },
            "type": "parcoords"
           }
          ],
          "pie": [
           {
            "automargin": true,
            "type": "pie"
           }
          ],
          "scatter": [
           {
            "marker": {
             "line": {
              "color": "#283442"
             }
            },
            "type": "scatter"
           }
          ],
          "scatter3d": [
           {
            "line": {
             "colorbar": {
              "outlinewidth": 0,
              "ticks": ""
             }
            },
            "marker": {
             "colorbar": {
              "outlinewidth": 0,
              "ticks": ""
             }
            },
            "type": "scatter3d"
           }
          ],
          "scattercarpet": [
           {
            "marker": {
             "colorbar": {
              "outlinewidth": 0,
              "ticks": ""
             }
            },
            "type": "scattercarpet"
           }
          ],
          "scattergeo": [
           {
            "marker": {
             "colorbar": {
              "outlinewidth": 0,
              "ticks": ""
             }
            },
            "type": "scattergeo"
           }
          ],
          "scattergl": [
           {
            "marker": {
             "line": {
              "color": "#283442"
             }
            },
            "type": "scattergl"
           }
          ],
          "scattermapbox": [
           {
            "marker": {
             "colorbar": {
              "outlinewidth": 0,
              "ticks": ""
             }
            },
            "type": "scattermapbox"
           }
          ],
          "scatterpolar": [
           {
            "marker": {
             "colorbar": {
              "outlinewidth": 0,
              "ticks": ""
             }
            },
            "type": "scatterpolar"
           }
          ],
          "scatterpolargl": [
           {
            "marker": {
             "colorbar": {
              "outlinewidth": 0,
              "ticks": ""
             }
            },
            "type": "scatterpolargl"
           }
          ],
          "scatterternary": [
           {
            "marker": {
             "colorbar": {
              "outlinewidth": 0,
              "ticks": ""
             }
            },
            "type": "scatterternary"
           }
          ],
          "surface": [
           {
            "colorbar": {
             "outlinewidth": 0,
             "ticks": ""
            },
            "colorscale": [
             [
              0,
              "#0d0887"
             ],
             [
              0.1111111111111111,
              "#46039f"
             ],
             [
              0.2222222222222222,
              "#7201a8"
             ],
             [
              0.3333333333333333,
              "#9c179e"
             ],
             [
              0.4444444444444444,
              "#bd3786"
             ],
             [
              0.5555555555555556,
              "#d8576b"
             ],
             [
              0.6666666666666666,
              "#ed7953"
             ],
             [
              0.7777777777777778,
              "#fb9f3a"
             ],
             [
              0.8888888888888888,
              "#fdca26"
             ],
             [
              1,
              "#f0f921"
             ]
            ],
            "type": "surface"
           }
          ],
          "table": [
           {
            "cells": {
             "fill": {
              "color": "#506784"
             },
             "line": {
              "color": "rgb(17,17,17)"
             }
            },
            "header": {
             "fill": {
              "color": "#2a3f5f"
             },
             "line": {
              "color": "rgb(17,17,17)"
             }
            },
            "type": "table"
           }
          ]
         },
         "layout": {
          "annotationdefaults": {
           "arrowcolor": "#f2f5fa",
           "arrowhead": 0,
           "arrowwidth": 1
          },
          "autotypenumbers": "strict",
          "coloraxis": {
           "colorbar": {
            "outlinewidth": 0,
            "ticks": ""
           }
          },
          "colorscale": {
           "diverging": [
            [
             0,
             "#8e0152"
            ],
            [
             0.1,
             "#c51b7d"
            ],
            [
             0.2,
             "#de77ae"
            ],
            [
             0.3,
             "#f1b6da"
            ],
            [
             0.4,
             "#fde0ef"
            ],
            [
             0.5,
             "#f7f7f7"
            ],
            [
             0.6,
             "#e6f5d0"
            ],
            [
             0.7,
             "#b8e186"
            ],
            [
             0.8,
             "#7fbc41"
            ],
            [
             0.9,
             "#4d9221"
            ],
            [
             1,
             "#276419"
            ]
           ],
           "sequential": [
            [
             0,
             "#0d0887"
            ],
            [
             0.1111111111111111,
             "#46039f"
            ],
            [
             0.2222222222222222,
             "#7201a8"
            ],
            [
             0.3333333333333333,
             "#9c179e"
            ],
            [
             0.4444444444444444,
             "#bd3786"
            ],
            [
             0.5555555555555556,
             "#d8576b"
            ],
            [
             0.6666666666666666,
             "#ed7953"
            ],
            [
             0.7777777777777778,
             "#fb9f3a"
            ],
            [
             0.8888888888888888,
             "#fdca26"
            ],
            [
             1,
             "#f0f921"
            ]
           ],
           "sequentialminus": [
            [
             0,
             "#0d0887"
            ],
            [
             0.1111111111111111,
             "#46039f"
            ],
            [
             0.2222222222222222,
             "#7201a8"
            ],
            [
             0.3333333333333333,
             "#9c179e"
            ],
            [
             0.4444444444444444,
             "#bd3786"
            ],
            [
             0.5555555555555556,
             "#d8576b"
            ],
            [
             0.6666666666666666,
             "#ed7953"
            ],
            [
             0.7777777777777778,
             "#fb9f3a"
            ],
            [
             0.8888888888888888,
             "#fdca26"
            ],
            [
             1,
             "#f0f921"
            ]
           ]
          },
          "colorway": [
           "#636efa",
           "#EF553B",
           "#00cc96",
           "#ab63fa",
           "#FFA15A",
           "#19d3f3",
           "#FF6692",
           "#B6E880",
           "#FF97FF",
           "#FECB52"
          ],
          "font": {
           "color": "#f2f5fa"
          },
          "geo": {
           "bgcolor": "rgb(17,17,17)",
           "lakecolor": "rgb(17,17,17)",
           "landcolor": "rgb(17,17,17)",
           "showlakes": true,
           "showland": true,
           "subunitcolor": "#506784"
          },
          "hoverlabel": {
           "align": "left"
          },
          "hovermode": "closest",
          "mapbox": {
           "style": "dark"
          },
          "paper_bgcolor": "rgb(17,17,17)",
          "plot_bgcolor": "rgb(17,17,17)",
          "polar": {
           "angularaxis": {
            "gridcolor": "#506784",
            "linecolor": "#506784",
            "ticks": ""
           },
           "bgcolor": "rgb(17,17,17)",
           "radialaxis": {
            "gridcolor": "#506784",
            "linecolor": "#506784",
            "ticks": ""
           }
          },
          "scene": {
           "xaxis": {
            "backgroundcolor": "rgb(17,17,17)",
            "gridcolor": "#506784",
            "gridwidth": 2,
            "linecolor": "#506784",
            "showbackground": true,
            "ticks": "",
            "zerolinecolor": "#C8D4E3"
           },
           "yaxis": {
            "backgroundcolor": "rgb(17,17,17)",
            "gridcolor": "#506784",
            "gridwidth": 2,
            "linecolor": "#506784",
            "showbackground": true,
            "ticks": "",
            "zerolinecolor": "#C8D4E3"
           },
           "zaxis": {
            "backgroundcolor": "rgb(17,17,17)",
            "gridcolor": "#506784",
            "gridwidth": 2,
            "linecolor": "#506784",
            "showbackground": true,
            "ticks": "",
            "zerolinecolor": "#C8D4E3"
           }
          },
          "shapedefaults": {
           "line": {
            "color": "#f2f5fa"
           }
          },
          "sliderdefaults": {
           "bgcolor": "#C8D4E3",
           "bordercolor": "rgb(17,17,17)",
           "borderwidth": 1,
           "tickwidth": 0
          },
          "ternary": {
           "aaxis": {
            "gridcolor": "#506784",
            "linecolor": "#506784",
            "ticks": ""
           },
           "baxis": {
            "gridcolor": "#506784",
            "linecolor": "#506784",
            "ticks": ""
           },
           "bgcolor": "rgb(17,17,17)",
           "caxis": {
            "gridcolor": "#506784",
            "linecolor": "#506784",
            "ticks": ""
           }
          },
          "title": {
           "x": 0.05
          },
          "updatemenudefaults": {
           "bgcolor": "#506784",
           "borderwidth": 0
          },
          "xaxis": {
           "automargin": true,
           "gridcolor": "#283442",
           "linecolor": "#506784",
           "ticks": "",
           "title": {
            "standoff": 15
           },
           "zerolinecolor": "#283442",
           "zerolinewidth": 2
          },
          "yaxis": {
           "automargin": true,
           "gridcolor": "#283442",
           "linecolor": "#506784",
           "ticks": "",
           "title": {
            "standoff": 15
           },
           "zerolinecolor": "#283442",
           "zerolinewidth": 2
          }
         }
        },
        "title": {
         "text": "Burglary in Texas Counties 2022"
        },
        "xaxis": {
         "anchor": "y",
         "domain": [
          0,
          1
         ],
         "title": {
          "text": "Burglary Count"
         }
        },
        "yaxis": {
         "anchor": "x",
         "domain": [
          0,
          1
         ],
         "title": {
          "text": " County Population"
         }
        }
       }
      },
      "text/html": [
       "<div>                            <div id=\"1cd3a669-265c-4fb8-a9f0-36b69d9ed783\" class=\"plotly-graph-div\" style=\"height:600px; width:100%;\"></div>            <script type=\"text/javascript\">                require([\"plotly\"], function(Plotly) {                    window.PLOTLYENV=window.PLOTLYENV || {};                                    if (document.getElementById(\"1cd3a669-265c-4fb8-a9f0-36b69d9ed783\")) {                    Plotly.newPlot(                        \"1cd3a669-265c-4fb8-a9f0-36b69d9ed783\",                        [{\"customdata\":[[\"Anderson\"],[\"Andrews\"],[\"Angelina\"],[\"Aransas\"],[\"Archer\"],[\"Armstrong\"],[\"Atascosa\"],[\"Austin\"],[\"Bailey\"],[\"Bandera\"],[\"Bastrop\"],[\"Baylor\"],[\"Bee\"],[\"Bell\"],[\"Bexar\"],[\"Blanco\"],[\"Borden\"],[\"Bosque\"],[\"Bowie\"],[\"Brazoria\"],[\"Brazos\"],[\"Brewster\"],[\"Briscoe\"],[\"Brooks\"],[\"Brown\"],[\"Burleson\"],[\"Burnet\"],[\"Caldwell\"],[\"Calhoun\"],[\"Callahan\"],[\"Cameron\"],[\"Camp\"],[\"Carson\"],[\"Cass\"],[\"Castro\"],[\"Chambers\"],[\"Cherokee\"],[\"Childress\"],[\"Clay\"],[\"Cochran\"],[\"Coke\"],[\"Coleman\"],[\"Collin\"],[\"Collingsworth\"],[\"Colorado\"],[\"Comal\"],[\"Comanche\"],[\"Concho\"],[\"Cooke\"],[\"Coryell\"],[\"Cottle\"],[\"Crane\"],[\"Crockett\"],[\"Crosby\"],[\"Culberson\"],[\"Dallam\"],[\"Dallas\"],[\"Dawson\"],[\"Deaf Smith\"],[\"Delta\"],[\"Denton\"],[\"Dewitt\"],[\"Dickens\"],[\"Dimmit\"],[\"Donley\"],[\"Duval\"],[\"Eastland\"],[\"Ector\"],[\"Edwards\"],[\"Ellis\"],[\"El Paso\"],[\"Erath\"],[\"Falls\"],[\"Fannin\"],[\"Fayette\"],[\"Fisher\"],[\"Floyd\"],[\"Foard\"],[\"Fort Bend\"],[\"Franklin\"],[\"Freestone\"],[\"Frio\"],[\"Gaines\"],[\"Galveston\"],[\"Garza\"],[\"Gillespie\"],[\"Glasscock\"],[\"Goliad\"],[\"Gonzales\"],[\"Gray\"],[\"Grayson\"],[\"Gregg\"],[\"Grimes\"],[\"Guadalupe\"],[\"Hale\"],[\"Hall\"],[\"Hamilton\"],[\"Hansford\"],[\"Hardeman\"],[\"Hardin\"],[\"Harris\"],[\"Harrison\"],[\"Hartley\"],[\"Haskell\"],[\"Hays\"],[\"Hemphill\"],[\"Henderson\"],[\"Hidalgo\"],[\"Hill\"],[\"Hockley\"],[\"Hood\"],[\"Hopkins\"],[\"Houston\"],[\"Howard\"],[\"Hudspeth\"],[\"Hunt\"],[\"Hutchinson\"],[\"Irion\"],[\"Jack\"],[\"Jackson\"],[\"Jasper\"],[\"Jeff Davis\"],[\"Jefferson\"],[\"Jim Hogg\"],[\"Jim Wells\"],[\"Johnson\"],[\"Jones\"],[\"Karnes\"],[\"Kaufman\"],[\"Kendall\"],[\"Kenedy\"],[\"Kent\"],[\"Kerr\"],[\"Kimble\"],[\"King\"],[\"Kinney\"],[\"Kleberg\"],[\"Knox\"],[\"Lamar\"],[\"Lamb\"],[\"Lampasas\"],[\"La Salle\"],[\"Lavaca\"],[\"Lee\"],[\"Leon\"],[\"Liberty\"],[\"Limestone\"],[\"Lipscomb\"],[\"Live Oak\"],[\"Llano\"],[\"Loving\"],[\"Lubbock\"],[\"Lynn\"],[\"Mcculloch\"],[\"Mclennan\"],[\"Mcmullen\"],[\"Madison\"],[\"Marion\"],[\"Martin\"],[\"Mason\"],[\"Matagorda\"],[\"Maverick\"],[\"Medina\"],[\"Menard\"],[\"Midland\"],[\"Milam\"],[\"Mills\"],[\"Mitchell\"],[\"Montague\"],[\"Montgomery\"],[\"Moore\"],[\"Morris\"],[\"Motley\"],[\"Nacogdoches\"],[\"Navarro\"],[\"Newton\"],[\"Nolan\"],[\"Nueces\"],[\"Ochiltree\"],[\"Oldham\"],[\"Orange\"],[\"Palo Pinto\"],[\"Panola\"],[\"Parker\"],[\"Parmer\"],[\"Pecos\"],[\"Polk\"],[\"Potter\"],[\"Presidio\"],[\"Rains\"],[\"Randall\"],[\"Reagan\"],[\"Real\"],[\"Red River\"],[\"Reeves\"],[\"Refugio\"],[\"Roberts\"],[\"Robertson\"],[\"Rockwall\"],[\"Runnels\"],[\"Rusk\"],[\"Sabine\"],[\"San Augustine\"],[\"San Jacinto\"],[\"San Patricio\"],[\"San Saba\"],[\"Schleicher\"],[\"Scurry\"],[\"Shackelford\"],[\"Shelby\"],[\"Sherman\"],[\"Smith\"],[\"Somervell\"],[\"Starr\"],[\"Stephens\"],[\"Sterling\"],[\"Stonewall\"],[\"Sutton\"],[\"Swisher\"],[\"Tarrant\"],[\"Taylor\"],[\"Terrell\"],[\"Terry\"],[\"Throckmorton\"],[\"Titus\"],[\"Tom Green\"],[\"Travis\"],[\"Trinity\"],[\"Tyler\"],[\"Upshur\"],[\"Upton\"],[\"Uvalde\"],[\"Val Verde\"],[\"Van Zandt\"],[\"Victoria\"],[\"Walker\"],[\"Waller\"],[\"Ward\"],[\"Washington\"],[\"Webb\"],[\"Wharton\"],[\"Wheeler\"],[\"Wichita\"],[\"Wilbarger\"],[\"Willacy\"],[\"Williamson\"],[\"Wilson\"],[\"Winkler\"],[\"Wise\"],[\"Wood\"],[\"Yoakum\"],[\"Young\"],[\"Zapata\"],[\"Zavala\"]],\"hovertemplate\":\"Burglary Count=%{x}\\u003cbr\\u003ePopulation=%{y}\\u003cbr\\u003eCounty=%{customdata[0]}\\u003cextra\\u003e\\u003c\\u002fextra\\u003e\",\"legendgroup\":\"\",\"marker\":{\"color\":\"yellow\",\"opacity\":0.7,\"symbol\":\"circle\"},\"mode\":\"markers\",\"name\":\"\",\"orientation\":\"v\",\"showlegend\":false,\"x\":[124.0,32.0,410.0,151.0,4.0,4.0,213.0,56.0,5.0,52.0,245.0,7.0,472.0,986.0,11040.0,20.0,2.0,31.0,199.0,772.0,410.0,8.0,5.0,4.0,143.0,51.0,124.0,51.0,49.0,39.0,959.0,43.0,1.0,67.0,11.0,156.0,142.0,28.0,27.0,9.0,129.0,10.0,1465.0,1.0,41.0,423.0,34.0,3.0,92.0,132.0,1.0,8.0,8.0,10.0,1.0,14.0,11529.0,59.0,64.0,20.0,1014.0,39.0,1.0,1.0,6.0,30.0,46.0,405.0,7.0,263.0,1195.0,65.0,118.0,33.0,54.0,17.0,23.0,1.0,1287.0,114.0,243.0,51.0,24.0,975.0,13.0,24.0,15.0,25.0,76.0,86.0,481.0,633.0,146.0,255.0,94.0,7.0,16.0,3.0,8.0,92.0,23736.0,290.0,1.0,4.0,480.0,20.0,243.0,1926.0,75.0,114.0,104.0,29.0,60.0,169.0,1.0,222.0,119.0,2.0,10.0,16.0,81.0,1.0,1414.0,19.0,231.0,288.0,23.0,71.0,350.0,111.0,1.0,1.0,99.0,4.0,1.0,1.0,157.0,12.0,214.0,31.0,20.0,4.0,28.0,42.0,54.0,260.0,108.0,3.0,5.0,56.0,2.0,2489.0,11.0,36.0,1217.0,1.0,27.0,44.0,18.0,1.0,178.0,334.0,138.0,1.0,380.0,68.0,7.0,1.0,133.0,1255.0,51.0,20.0,2.0,147.0,142.0,33.0,65.0,1744.0,25.0,2.0,298.0,173.0,58.0,338.0,38.0,12.0,158.0,1211.0,1.0,1.0,54.0,6.0,19.0,13.0,30.0,15.0,1.0,135.0,119.0,68.0,148.0,19.0,43.0,1.0,148.0,9.0,9.0,46.0,4.0,103.0,1.0,548.0,22.0,133.0,27.0,3.0,1.0,6.0,33.0,6437.0,481.0,1.0,57.0,2.0,86.0,471.0,5678.0,30.0,61.0,83.0,4.0,90.0,191.0,155.0,328.0,209.0,159.0,33.0,69.0,429.0,136.0,1.0,592.0,34.0,77.0,870.0,105.0,23.0,134.0,108.0,11.0,23.0,12.0,9.0],\"xaxis\":\"x\",\"y\":[20230.0,18380.0,82128.0,31050.0,1593.0,1842.0,51974.0,30837.0,6852.0,22292.0,108569.0,3511.0,31043.0,386098.0,2056933.0,10617.0,598.0,18898.0,91424.0,397134.0,241050.0,9391.0,1393.0,7000.0,38613.0,18578.0,49725.0,46366.0,19529.0,14577.0,421773.0,12861.0,5719.0,28571.0,7455.0,46257.0,51931.0,6866.0,10343.0,2489.0,3374.0,7847.0,1153886.0,2611.0,17330.0,208617.0,14036.0,3383.0,42011.0,86872.0,1.0,4720.0,3044.0,1051.0,1.0,10116.0,2880842.0,12351.0,18266.0,5589.0,744185.0,16261.0,1.0,1.0,3287.0,6780.0,16315.0,161546.0,1471.0,201136.0,875027.0,44315.0,15719.0,26067.0,25074.0,3757.0,5354.0,337.0,845866.0,9826.0,20230.0,10979.0,20026.0,372065.0,5969.0,28041.0,1192.0,7369.0,17395.0,21007.0,135482.0,133105.0,31373.0,110818.0,23309.0,2781.0,8277.0,5095.0,3015.0,58024.0,4788785.0,67522.0,2620.0,5392.0,268138.0,3196.0,83077.0,886226.0,35792.0,21364.0,65935.0,37150.0,22550.0,33673.0,3401.0,99371.0,20574.0,1593.0,8992.0,15335.0,31259.0,1932.0,253036.0,4792.0,34734.0,201410.0,12538.0,14876.0,169921.0,46907.0,336.0,1.0,53972.0,4469.0,248.0,1.0,30497.0,1047.0,50420.0,10023.0,21193.0,6198.0,22946.0,18023.0,15035.0,95334.0,22259.0,2841.0,2194.0,19073.0,48.0,316856.0,5178.0,7544.0,258233.0,1.0,14019.0,9596.0,5162.0,3946.0,36638.0,58619.0,51404.0,1.0,163009.0,25647.0,4548.0,1.0,16953.0,670242.0,21090.0,9833.0,1088.0,65100.0,54737.0,12394.0,14561.0,352044.0,9665.0,1684.0,85213.0,29286.0,22784.0,161150.0,9834.0,8411.0,53651.0,218402.0,2880.0,1359.0,44583.0,3153.0,2929.0,11629.0,12483.0,6806.0,777.0,17282.0,121643.0,10025.0,50636.0,9243.0,7973.0,1.0,46042.0,3197.0,2431.0,16818.0,3325.0,23104.0,1973.0,239668.0,9789.0,66662.0,9324.0,1387.0,1.0,3297.0,5918.0,2095201.0,149452.0,709.0,11786.0,1558.0,31289.0,119434.0,1369051.0,11709.0,20483.0,40434.0,3253.0,25069.0,47831.0,63280.0,91237.0,79915.0,57871.0,10815.0,36161.0,265918.0,42144.0,3157.0,131378.0,12693.0,18159.0,628141.0,50962.0,7138.0,75128.0,47838.0,7591.0,18225.0,14016.0,3222.0],\"yaxis\":\"y\",\"type\":\"scatter\"}],                        {\"template\":{\"data\":{\"barpolar\":[{\"marker\":{\"line\":{\"color\":\"rgb(17,17,17)\",\"width\":0.5},\"pattern\":{\"fillmode\":\"overlay\",\"size\":10,\"solidity\":0.2}},\"type\":\"barpolar\"}],\"bar\":[{\"error_x\":{\"color\":\"#f2f5fa\"},\"error_y\":{\"color\":\"#f2f5fa\"},\"marker\":{\"line\":{\"color\":\"rgb(17,17,17)\",\"width\":0.5},\"pattern\":{\"fillmode\":\"overlay\",\"size\":10,\"solidity\":0.2}},\"type\":\"bar\"}],\"carpet\":[{\"aaxis\":{\"endlinecolor\":\"#A2B1C6\",\"gridcolor\":\"#506784\",\"linecolor\":\"#506784\",\"minorgridcolor\":\"#506784\",\"startlinecolor\":\"#A2B1C6\"},\"baxis\":{\"endlinecolor\":\"#A2B1C6\",\"gridcolor\":\"#506784\",\"linecolor\":\"#506784\",\"minorgridcolor\":\"#506784\",\"startlinecolor\":\"#A2B1C6\"},\"type\":\"carpet\"}],\"choropleth\":[{\"colorbar\":{\"outlinewidth\":0,\"ticks\":\"\"},\"type\":\"choropleth\"}],\"contourcarpet\":[{\"colorbar\":{\"outlinewidth\":0,\"ticks\":\"\"},\"type\":\"contourcarpet\"}],\"contour\":[{\"colorbar\":{\"outlinewidth\":0,\"ticks\":\"\"},\"colorscale\":[[0.0,\"#0d0887\"],[0.1111111111111111,\"#46039f\"],[0.2222222222222222,\"#7201a8\"],[0.3333333333333333,\"#9c179e\"],[0.4444444444444444,\"#bd3786\"],[0.5555555555555556,\"#d8576b\"],[0.6666666666666666,\"#ed7953\"],[0.7777777777777778,\"#fb9f3a\"],[0.8888888888888888,\"#fdca26\"],[1.0,\"#f0f921\"]],\"type\":\"contour\"}],\"heatmapgl\":[{\"colorbar\":{\"outlinewidth\":0,\"ticks\":\"\"},\"colorscale\":[[0.0,\"#0d0887\"],[0.1111111111111111,\"#46039f\"],[0.2222222222222222,\"#7201a8\"],[0.3333333333333333,\"#9c179e\"],[0.4444444444444444,\"#bd3786\"],[0.5555555555555556,\"#d8576b\"],[0.6666666666666666,\"#ed7953\"],[0.7777777777777778,\"#fb9f3a\"],[0.8888888888888888,\"#fdca26\"],[1.0,\"#f0f921\"]],\"type\":\"heatmapgl\"}],\"heatmap\":[{\"colorbar\":{\"outlinewidth\":0,\"ticks\":\"\"},\"colorscale\":[[0.0,\"#0d0887\"],[0.1111111111111111,\"#46039f\"],[0.2222222222222222,\"#7201a8\"],[0.3333333333333333,\"#9c179e\"],[0.4444444444444444,\"#bd3786\"],[0.5555555555555556,\"#d8576b\"],[0.6666666666666666,\"#ed7953\"],[0.7777777777777778,\"#fb9f3a\"],[0.8888888888888888,\"#fdca26\"],[1.0,\"#f0f921\"]],\"type\":\"heatmap\"}],\"histogram2dcontour\":[{\"colorbar\":{\"outlinewidth\":0,\"ticks\":\"\"},\"colorscale\":[[0.0,\"#0d0887\"],[0.1111111111111111,\"#46039f\"],[0.2222222222222222,\"#7201a8\"],[0.3333333333333333,\"#9c179e\"],[0.4444444444444444,\"#bd3786\"],[0.5555555555555556,\"#d8576b\"],[0.6666666666666666,\"#ed7953\"],[0.7777777777777778,\"#fb9f3a\"],[0.8888888888888888,\"#fdca26\"],[1.0,\"#f0f921\"]],\"type\":\"histogram2dcontour\"}],\"histogram2d\":[{\"colorbar\":{\"outlinewidth\":0,\"ticks\":\"\"},\"colorscale\":[[0.0,\"#0d0887\"],[0.1111111111111111,\"#46039f\"],[0.2222222222222222,\"#7201a8\"],[0.3333333333333333,\"#9c179e\"],[0.4444444444444444,\"#bd3786\"],[0.5555555555555556,\"#d8576b\"],[0.6666666666666666,\"#ed7953\"],[0.7777777777777778,\"#fb9f3a\"],[0.8888888888888888,\"#fdca26\"],[1.0,\"#f0f921\"]],\"type\":\"histogram2d\"}],\"histogram\":[{\"marker\":{\"pattern\":{\"fillmode\":\"overlay\",\"size\":10,\"solidity\":0.2}},\"type\":\"histogram\"}],\"mesh3d\":[{\"colorbar\":{\"outlinewidth\":0,\"ticks\":\"\"},\"type\":\"mesh3d\"}],\"parcoords\":[{\"line\":{\"colorbar\":{\"outlinewidth\":0,\"ticks\":\"\"}},\"type\":\"parcoords\"}],\"pie\":[{\"automargin\":true,\"type\":\"pie\"}],\"scatter3d\":[{\"line\":{\"colorbar\":{\"outlinewidth\":0,\"ticks\":\"\"}},\"marker\":{\"colorbar\":{\"outlinewidth\":0,\"ticks\":\"\"}},\"type\":\"scatter3d\"}],\"scattercarpet\":[{\"marker\":{\"colorbar\":{\"outlinewidth\":0,\"ticks\":\"\"}},\"type\":\"scattercarpet\"}],\"scattergeo\":[{\"marker\":{\"colorbar\":{\"outlinewidth\":0,\"ticks\":\"\"}},\"type\":\"scattergeo\"}],\"scattergl\":[{\"marker\":{\"line\":{\"color\":\"#283442\"}},\"type\":\"scattergl\"}],\"scattermapbox\":[{\"marker\":{\"colorbar\":{\"outlinewidth\":0,\"ticks\":\"\"}},\"type\":\"scattermapbox\"}],\"scatterpolargl\":[{\"marker\":{\"colorbar\":{\"outlinewidth\":0,\"ticks\":\"\"}},\"type\":\"scatterpolargl\"}],\"scatterpolar\":[{\"marker\":{\"colorbar\":{\"outlinewidth\":0,\"ticks\":\"\"}},\"type\":\"scatterpolar\"}],\"scatter\":[{\"marker\":{\"line\":{\"color\":\"#283442\"}},\"type\":\"scatter\"}],\"scatterternary\":[{\"marker\":{\"colorbar\":{\"outlinewidth\":0,\"ticks\":\"\"}},\"type\":\"scatterternary\"}],\"surface\":[{\"colorbar\":{\"outlinewidth\":0,\"ticks\":\"\"},\"colorscale\":[[0.0,\"#0d0887\"],[0.1111111111111111,\"#46039f\"],[0.2222222222222222,\"#7201a8\"],[0.3333333333333333,\"#9c179e\"],[0.4444444444444444,\"#bd3786\"],[0.5555555555555556,\"#d8576b\"],[0.6666666666666666,\"#ed7953\"],[0.7777777777777778,\"#fb9f3a\"],[0.8888888888888888,\"#fdca26\"],[1.0,\"#f0f921\"]],\"type\":\"surface\"}],\"table\":[{\"cells\":{\"fill\":{\"color\":\"#506784\"},\"line\":{\"color\":\"rgb(17,17,17)\"}},\"header\":{\"fill\":{\"color\":\"#2a3f5f\"},\"line\":{\"color\":\"rgb(17,17,17)\"}},\"type\":\"table\"}]},\"layout\":{\"annotationdefaults\":{\"arrowcolor\":\"#f2f5fa\",\"arrowhead\":0,\"arrowwidth\":1},\"autotypenumbers\":\"strict\",\"coloraxis\":{\"colorbar\":{\"outlinewidth\":0,\"ticks\":\"\"}},\"colorscale\":{\"diverging\":[[0,\"#8e0152\"],[0.1,\"#c51b7d\"],[0.2,\"#de77ae\"],[0.3,\"#f1b6da\"],[0.4,\"#fde0ef\"],[0.5,\"#f7f7f7\"],[0.6,\"#e6f5d0\"],[0.7,\"#b8e186\"],[0.8,\"#7fbc41\"],[0.9,\"#4d9221\"],[1,\"#276419\"]],\"sequential\":[[0.0,\"#0d0887\"],[0.1111111111111111,\"#46039f\"],[0.2222222222222222,\"#7201a8\"],[0.3333333333333333,\"#9c179e\"],[0.4444444444444444,\"#bd3786\"],[0.5555555555555556,\"#d8576b\"],[0.6666666666666666,\"#ed7953\"],[0.7777777777777778,\"#fb9f3a\"],[0.8888888888888888,\"#fdca26\"],[1.0,\"#f0f921\"]],\"sequentialminus\":[[0.0,\"#0d0887\"],[0.1111111111111111,\"#46039f\"],[0.2222222222222222,\"#7201a8\"],[0.3333333333333333,\"#9c179e\"],[0.4444444444444444,\"#bd3786\"],[0.5555555555555556,\"#d8576b\"],[0.6666666666666666,\"#ed7953\"],[0.7777777777777778,\"#fb9f3a\"],[0.8888888888888888,\"#fdca26\"],[1.0,\"#f0f921\"]]},\"colorway\":[\"#636efa\",\"#EF553B\",\"#00cc96\",\"#ab63fa\",\"#FFA15A\",\"#19d3f3\",\"#FF6692\",\"#B6E880\",\"#FF97FF\",\"#FECB52\"],\"font\":{\"color\":\"#f2f5fa\"},\"geo\":{\"bgcolor\":\"rgb(17,17,17)\",\"lakecolor\":\"rgb(17,17,17)\",\"landcolor\":\"rgb(17,17,17)\",\"showlakes\":true,\"showland\":true,\"subunitcolor\":\"#506784\"},\"hoverlabel\":{\"align\":\"left\"},\"hovermode\":\"closest\",\"mapbox\":{\"style\":\"dark\"},\"paper_bgcolor\":\"rgb(17,17,17)\",\"plot_bgcolor\":\"rgb(17,17,17)\",\"polar\":{\"angularaxis\":{\"gridcolor\":\"#506784\",\"linecolor\":\"#506784\",\"ticks\":\"\"},\"bgcolor\":\"rgb(17,17,17)\",\"radialaxis\":{\"gridcolor\":\"#506784\",\"linecolor\":\"#506784\",\"ticks\":\"\"}},\"scene\":{\"xaxis\":{\"backgroundcolor\":\"rgb(17,17,17)\",\"gridcolor\":\"#506784\",\"gridwidth\":2,\"linecolor\":\"#506784\",\"showbackground\":true,\"ticks\":\"\",\"zerolinecolor\":\"#C8D4E3\"},\"yaxis\":{\"backgroundcolor\":\"rgb(17,17,17)\",\"gridcolor\":\"#506784\",\"gridwidth\":2,\"linecolor\":\"#506784\",\"showbackground\":true,\"ticks\":\"\",\"zerolinecolor\":\"#C8D4E3\"},\"zaxis\":{\"backgroundcolor\":\"rgb(17,17,17)\",\"gridcolor\":\"#506784\",\"gridwidth\":2,\"linecolor\":\"#506784\",\"showbackground\":true,\"ticks\":\"\",\"zerolinecolor\":\"#C8D4E3\"}},\"shapedefaults\":{\"line\":{\"color\":\"#f2f5fa\"}},\"sliderdefaults\":{\"bgcolor\":\"#C8D4E3\",\"bordercolor\":\"rgb(17,17,17)\",\"borderwidth\":1,\"tickwidth\":0},\"ternary\":{\"aaxis\":{\"gridcolor\":\"#506784\",\"linecolor\":\"#506784\",\"ticks\":\"\"},\"baxis\":{\"gridcolor\":\"#506784\",\"linecolor\":\"#506784\",\"ticks\":\"\"},\"bgcolor\":\"rgb(17,17,17)\",\"caxis\":{\"gridcolor\":\"#506784\",\"linecolor\":\"#506784\",\"ticks\":\"\"}},\"title\":{\"x\":0.05},\"updatemenudefaults\":{\"bgcolor\":\"#506784\",\"borderwidth\":0},\"xaxis\":{\"automargin\":true,\"gridcolor\":\"#283442\",\"linecolor\":\"#506784\",\"ticks\":\"\",\"title\":{\"standoff\":15},\"zerolinecolor\":\"#283442\",\"zerolinewidth\":2},\"yaxis\":{\"automargin\":true,\"gridcolor\":\"#283442\",\"linecolor\":\"#506784\",\"ticks\":\"\",\"title\":{\"standoff\":15},\"zerolinecolor\":\"#283442\",\"zerolinewidth\":2}}},\"xaxis\":{\"anchor\":\"y\",\"domain\":[0.0,1.0],\"title\":{\"text\":\"Burglary Count\"}},\"yaxis\":{\"anchor\":\"x\",\"domain\":[0.0,1.0],\"title\":{\"text\":\" County Population\"}},\"legend\":{\"tracegroupgap\":0},\"title\":{\"text\":\"Burglary in Texas Counties 2022\"},\"height\":600,\"showlegend\":false},                        {\"responsive\": true}                    ).then(function(){\n",
       "                            \n",
       "var gd = document.getElementById('1cd3a669-265c-4fb8-a9f0-36b69d9ed783');\n",
       "var x = new MutationObserver(function (mutations, observer) {{\n",
       "        var display = window.getComputedStyle(gd).display;\n",
       "        if (!display || display === 'none') {{\n",
       "            console.log([gd, 'removed!']);\n",
       "            Plotly.purge(gd);\n",
       "            observer.disconnect();\n",
       "        }}\n",
       "}});\n",
       "\n",
       "// Listen for the removal of the full notebook cells\n",
       "var notebookContainer = gd.closest('#notebook-container');\n",
       "if (notebookContainer) {{\n",
       "    x.observe(notebookContainer, {childList: true});\n",
       "}}\n",
       "\n",
       "// Listen for the clearing of the current output cell\n",
       "var outputEl = gd.closest('.output');\n",
       "if (outputEl) {{\n",
       "    x.observe(outputEl, {childList: true});\n",
       "}}\n",
       "\n",
       "                        })                };                });            </script>        </div>"
      ]
     },
     "metadata": {},
     "output_type": "display_data"
    }
   ],
   "source": [
    "import plotly.express as px\n",
    "\n",
    "# scatter plot\n",
    "fig = px.scatter(\n",
    "    df,\n",
    "    x='Burglary',\n",
    "    y='Population',\n",
    "    hover_data=['County'],\n",
    "    title='Burglary in Texas Counties 2022',\n",
    "    labels={'Burglary': 'Burglary Count', 'Population': 'Population'},\n",
    "    template='plotly_dark',  # Choose a dark template for aesthetics\n",
    "    color_discrete_sequence=['yellow'],  # Choose a color for the points\n",
    "    opacity=0.7,  # Set point opacity\n",
    ")\n",
    "\n",
    "# Titles\n",
    "fig.update_layout(\n",
    "    xaxis_title='Burglary Count',\n",
    "    yaxis_title=' County Population',\n",
    "    height=600,\n",
    "    showlegend=False  # Hide legend for a cleaner look\n",
    ")\n",
    "\n",
    "# Show\n",
    "fig.show()\n"
   ]
  },
  {
   "cell_type": "code",
   "execution_count": null,
   "id": "5a580806",
   "metadata": {},
   "outputs": [],
   "source": []
  },
  {
   "cell_type": "code",
   "execution_count": null,
   "id": "4a5fadba",
   "metadata": {},
   "outputs": [],
   "source": []
  }
 ],
 "metadata": {
  "kernelspec": {
   "display_name": "PythonData",
   "language": "python",
   "name": "pythondata"
  },
  "language_info": {
   "codemirror_mode": {
    "name": "ipython",
    "version": 3
   },
   "file_extension": ".py",
   "mimetype": "text/x-python",
   "name": "python",
   "nbconvert_exporter": "python",
   "pygments_lexer": "ipython3",
   "version": "3.7.7"
  }
 },
 "nbformat": 4,
 "nbformat_minor": 5
}
